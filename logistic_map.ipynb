{
 "cells": [
  {
   "cell_type": "code",
   "execution_count": 1,
   "metadata": {},
   "outputs": [],
   "source": [
    "%matplotlib widget\n",
    "\n",
    "import math, numba, pprint, pylab\n",
    "import numpy as np\n",
    "import matplotlib.pyplot as plt\n",
    "import ipywidgets as widgets\n",
    "\n",
    "from itertools import islice\n",
    "from ipywidgets import (interact, interact_manual, fixed, FloatSlider, Dropdown)\n",
    "\n",
    "pylab.rcParams['figure.figsize'] = (12.0, 6.0)\n",
    "plt.style.use('dark_background')"
   ]
  },
  {
   "cell_type": "code",
   "execution_count": 2,
   "metadata": {},
   "outputs": [],
   "source": [
    "def tg_pprint(*args, width=200, **kwargs):\n",
    "    return pprint.pprint(*args, **kwargs, width=width)"
   ]
  },
  {
   "cell_type": "code",
   "execution_count": 3,
   "metadata": {},
   "outputs": [],
   "source": [
    "@numba.jit\n",
    "def log_map_gen(x0=.5, r=2.4):\n",
    "    xn1=x0\n",
    "    yield xn1\n",
    "    while True:\n",
    "        xn=xn1\n",
    "        xn1 = r*xn*(1.-xn)\n",
    "        yield xn1"
   ]
  },
  {
   "cell_type": "code",
   "execution_count": 4,
   "metadata": {},
   "outputs": [
    {
     "data": {
      "application/vnd.jupyter.widget-view+json": {
       "model_id": "7d8fa817e71741659e765fec50de41cf",
       "version_major": 2,
       "version_minor": 0
      },
      "text/plain": [
       "Canvas(toolbar=Toolbar(toolitems=[('Home', 'Reset original view', 'home', 'home'), ('Back', 'Back to previous …"
      ]
     },
     "metadata": {},
     "output_type": "display_data"
    }
   ],
   "source": [
    "%matplotlib widget\n",
    "@interact(   x0=FloatSlider(.5, min=0., max=1., step=.001)\n",
    "            ,r= FloatSlider(2.98, min=0., max=4., step=.001)\n",
    "#            ,n=[('30', 30), ('100', 100), ('200', 200)] # n=fixed(50)\n",
    "            ,n=Dropdown(options=[30, 100, 200])\n",
    "         )\n",
    "def graph_pop(x0=.5, r=2.4, n=30):\n",
    "    ts = range(n)\n",
    "    xs = tuple(islice(log_map_gen(x0=x0, r=r), n))\n",
    "    #tg_pprint(xs)\n",
    "    plt.gcf().clear()\n",
    "    plt.ylim((0, 1.))\n",
    "    plt.plot(ts, xs, marker=',')"
   ]
  },
  {
   "cell_type": "code",
   "execution_count": 5,
   "metadata": {},
   "outputs": [],
   "source": [
    "@numba.jit\n",
    "def gen_rs(rmin=1., rmax=4., nbins=2000):\n",
    "    delta = rmax - rmin\n",
    "    for i in range(nbins):\n",
    "        yield rmin + delta * i / nbins"
   ]
  },
  {
   "cell_type": "code",
   "execution_count": 15,
   "metadata": {},
   "outputs": [],
   "source": [
    "def foobar(rmin_=0, rmax_=4.0):\n",
    "    @interact_manual(    rmin=FloatSlider(rmin_, min=rmin_, max=rmax_, step=0.0001)\n",
    "                        ,rmax=FloatSlider(rmax_, min=rmin_, max=rmax_, step=0.0001)\n",
    "                        ,nthrow=Dropdown(options=(0, 10, 20, 40, 80, 160, 320, 640), index=4) # nthrow=fixed(50)\n",
    "                        ,nkeep= Dropdown(options=(   10, 20, 40, 80, 160, 320, 640), index=3)\n",
    "                        ,nbins= Dropdown(options=(8000, 16000, 32000, 64000, 128000, 256000, 512000), index=4)\n",
    "                    )\n",
    "    def plot_bifurication_map(rmin=0, rmax=4, nthrow=50, nkeep=50, nbins=2000):\n",
    "        #plt.yscale('linear')\n",
    "        rs = []\n",
    "        xs = []\n",
    "        for r in gen_rs(rmin=rmin, rmax=rmax, nbins=nbins):\n",
    "            x = tuple(islice(log_map_gen(r=r), nthrow, nthrow+nkeep))\n",
    "            rs.append(len(x)*(r,))\n",
    "            xs.append(x)\n",
    "        plt.gcf().clear()\n",
    "        plt.plot(rs, xs, marker='.', linewidth=0, markersize=.2)"
   ]
  },
  {
   "cell_type": "code",
   "execution_count": 16,
   "metadata": {},
   "outputs": [
    {
     "data": {
      "application/vnd.jupyter.widget-view+json": {
       "model_id": "2696b7433c9142c8ac672887ce75f4da",
       "version_major": 2,
       "version_minor": 0
      },
      "text/plain": [
       "interactive(children=(FloatSlider(value=0.0, description='rmin', max=4.0, step=0.0001), FloatSlider(value=4.0,…"
      ]
     },
     "metadata": {},
     "output_type": "display_data"
    }
   ],
   "source": [
    "%matplotlib widget\n",
    "foobar(0, 4)"
   ]
  },
  {
   "cell_type": "code",
   "execution_count": 17,
   "metadata": {},
   "outputs": [],
   "source": [
    "#import bokeh.plotting as plotting\n",
    "\n",
    "#plotting.output_notebook()\n",
    "\n",
    "#f = plotting.figure(plot_width=600, plot_height=400)\n",
    "#f.circle(*zip(*gen_r_e(nbins=500000)),size=.5)\n",
    "#plotting.show(f)"
   ]
  },
  {
   "cell_type": "code",
   "execution_count": 9,
   "metadata": {},
   "outputs": [],
   "source": [
    "def gen_mandel(xrng=(-2,.5), yrng=(-1,1), horizon=2, nbins=100, niter=32):\n",
    "    rng = ((xrng[1] - xrng[0])\n",
    "          ,(yrng[1] - yrng[0])\n",
    "          )\n",
    "    delta = tuple(map(lambda v: v/nbins, rng))\n",
    "\n",
    "    xs = np.linspace(*xrng, nbins, dtype=float)\n",
    "    ys = np.linspace(*yrng, nbins, dtype=float)\n",
    "    cs = xs + ys[:, None]*1j\n",
    "    ns = np.zeros(cs.shape, dtype=int)\n",
    "    zs = np.zeros(cs.shape, dtype=np.complex64)\n",
    "    m  = np.zeros((nbins, nbins), dtype=complex)\n",
    "    \n",
    "    for it in range(niter):\n",
    "        i = np.less(abs(zs), horizon)\n",
    "        ns[i] = it\n",
    "        zs[i] = zs[i]**2 + cs[i]\n",
    "    ns[ns == niter - 1] = 0\n",
    "    \n",
    "    log_horizon = np.log(np.log(horizon))/np.log(2)\n",
    "    with np.errstate(invalid='ignore'):\n",
    "        zs = np.nan_to_num(ns + 1 - np.log(np.log(abs(zs))/np.log(2) + log_horizon))\n",
    "    return zs, ns, cs"
   ]
  },
  {
   "cell_type": "code",
   "execution_count": 10,
   "metadata": {},
   "outputs": [
    {
     "data": {
      "application/vnd.jupyter.widget-view+json": {
       "model_id": "541380dfed6048639ce72d7b41fb69b5",
       "version_major": 2,
       "version_minor": 0
      },
      "text/plain": [
       "Canvas(toolbar=Toolbar(toolitems=[('Home', 'Reset original view', 'home', 'home'), ('Back', 'Back to previous …"
      ]
     },
     "metadata": {},
     "output_type": "display_data"
    },
    {
     "data": {
      "text/plain": [
       "<matplotlib.image.AxesImage at 0x29953cbb748>"
      ]
     },
     "execution_count": 10,
     "metadata": {},
     "output_type": "execute_result"
    }
   ],
   "source": [
    "zs, ns, cs = gen_mandel(nbins=1000, horizon=2**10)\n",
    "#plt.countour(xs, ys, np.absolute(m))\n",
    "plt.imshow(np.absolute(zs))\n",
    "#tg_pprint(zs)"
   ]
  },
  {
   "cell_type": "code",
   "execution_count": 11,
   "metadata": {},
   "outputs": [
    {
     "data": {
      "application/vnd.jupyter.widget-view+json": {
       "model_id": "f305cb9c5cb740169edfa187a8ee73d6",
       "version_major": 2,
       "version_minor": 0
      },
      "text/plain": [
       "Canvas(toolbar=Toolbar(toolitems=[('Home', 'Reset original view', 'home', 'home'), ('Back', 'Back to previous …"
      ]
     },
     "metadata": {},
     "output_type": "display_data"
    },
    {
     "data": {
      "text/plain": [
       "<mpl_toolkits.mplot3d.art3d.Path3DCollection at 0x2995506e748>"
      ]
     },
     "execution_count": 11,
     "metadata": {},
     "output_type": "execute_result"
    }
   ],
   "source": [
    "from mpl_toolkits import mplot3d\n",
    "\n",
    "fig = plt.figure()\n",
    "ax = plt.axes(projection='3d')\n",
    "ax.view_init(azim=-90, elev=90)\n",
    "ax.scatter3D(cs.real, cs.imag, abs(zs), c=abs(zs).flat, marker='.')"
   ]
  },
  {
   "cell_type": "code",
   "execution_count": 12,
   "metadata": {},
   "outputs": [
    {
     "data": {
      "text/plain": [
       "2.398536220281028"
      ]
     },
     "execution_count": 12,
     "metadata": {},
     "output_type": "execute_result"
    }
   ],
   "source": [
    "abs(2+-1.324j)"
   ]
  },
  {
   "cell_type": "code",
   "execution_count": 13,
   "metadata": {},
   "outputs": [
    {
     "name": "stdout",
     "output_type": "stream",
     "text": [
      "Machine parameters for float64\n",
      "---------------------------------------------------------------\n",
      "precision =  15   resolution = 1.0000000000000001e-15\n",
      "machep =    -52   eps =        2.2204460492503131e-16\n",
      "negep =     -53   epsneg =     1.1102230246251565e-16\n",
      "minexp =  -1022   tiny =       2.2250738585072014e-308\n",
      "maxexp =   1024   max =        1.7976931348623157e+308\n",
      "nexp =       11   min =        -max\n",
      "---------------------------------------------------------------\n",
      "\n"
     ]
    }
   ],
   "source": [
    "print(np.finfo(np.float64))"
   ]
  },
  {
   "cell_type": "code",
   "execution_count": 14,
   "metadata": {},
   "outputs": [],
   "source": [
    "import ipywidgets as widgets"
   ]
  },
  {
   "cell_type": "code",
   "execution_count": null,
   "metadata": {},
   "outputs": [],
   "source": []
  }
 ],
 "metadata": {
  "kernelspec": {
   "display_name": "Python 3",
   "language": "python",
   "name": "python3"
  },
  "language_info": {
   "codemirror_mode": {
    "name": "ipython",
    "version": 3
   },
   "file_extension": ".py",
   "mimetype": "text/x-python",
   "name": "python",
   "nbconvert_exporter": "python",
   "pygments_lexer": "ipython3",
   "version": "3.7.6"
  }
 },
 "nbformat": 4,
 "nbformat_minor": 4
}
