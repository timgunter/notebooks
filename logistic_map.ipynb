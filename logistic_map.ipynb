{
 "cells": [
  {
   "cell_type": "code",
   "execution_count": 1,
   "metadata": {},
   "outputs": [],
   "source": [
    "%matplotlib widget\n",
    "\n",
    "import math, numba, pprint, pylab\n",
    "import numpy as np\n",
    "import matplotlib as mpl\n",
    "import matplotlib.pyplot as plt\n",
    "import ipywidgets as widgets\n",
    "\n",
    "from itertools import islice\n",
    "\n",
    "from ipywidgets import (\n",
    "    interact,\n",
    "    interact_manual,\n",
    "    interactive,\n",
    "    fixed,\n",
    "    FloatSlider,\n",
    "    Dropdown,\n",
    "    Layout\n",
    ")\n",
    "\n",
    "from ipywidgets import (Output, HBox, VBox)\n",
    "\n",
    "pylab.rcParams['figure.figsize'] = (12.0, 6.0)\n",
    "plt.style.use('dark_background')"
   ]
  },
  {
   "cell_type": "code",
   "execution_count": 2,
   "metadata": {},
   "outputs": [],
   "source": [
    "slider_layout=Layout(width='66%')"
   ]
  },
  {
   "cell_type": "code",
   "execution_count": 3,
   "metadata": {},
   "outputs": [],
   "source": [
    "def tg_pprint(*args, width=200, **kwargs):\n",
    "    return pprint.pprint(*args, **kwargs, width=width)"
   ]
  },
  {
   "cell_type": "code",
   "execution_count": 4,
   "metadata": {},
   "outputs": [],
   "source": [
    "@numba.njit\n",
    "def log_map_gen(x0=.5, r=2.4):\n",
    "    xn1=x0\n",
    "    while True:\n",
    "        yield xn1\n",
    "        xn=xn1\n",
    "        xn1 = r*xn*(1.-xn)"
   ]
  },
  {
   "cell_type": "code",
   "execution_count": 5,
   "metadata": {},
   "outputs": [
    {
     "data": {
      "application/vnd.jupyter.widget-view+json": {
       "model_id": "64a1c4e7ab4f4acea9b7acb818011f75",
       "version_major": 2,
       "version_minor": 0
      },
      "text/plain": [
       "interactive(children=(FloatSlider(value=0.5, description='x0', layout=Layout(width='66%'), max=1.0, step=0.001…"
      ]
     },
     "metadata": {},
     "output_type": "display_data"
    }
   ],
   "source": [
    "@interact(   x0=FloatSlider(.5, min=0., max=1., step=.001, layout=slider_layout)\n",
    "            ,r= FloatSlider(2.98, min=0., max=4., step=.001, layout=slider_layout)\n",
    "            ,nthrow=Dropdown(options=(0, 1, 2, 3, 4, 10, 20, 40, 80, 160, 320, 640)) # nthrow=fixed(50)\n",
    "            ,nkeep= Dropdown(options=(   10, 20, 30, 40, 50), index=1)\n",
    "            ,threeToFour=False\n",
    "#            ,norm=fixed(None)\n",
    "            ,norm=fixed(lambda x: int(1000*x)/10)\n",
    "         )\n",
    "def print_pop(x0=.5, r=2.4, nthrow=0, nkeep=30, threeToFour=False, norm=lambda x: int(1000*x)/10):\n",
    "    if threeToFour:\n",
    "        r = 3 + r/4\n",
    "    seq=islice(log_map_gen(x0=x0, r=r), nthrow, nthrow+nkeep)\n",
    "    if norm:\n",
    "        seq=map(norm, seq)\n",
    "    tg_pprint(tuple(seq))"
   ]
  },
  {
   "cell_type": "code",
   "execution_count": 6,
   "metadata": {},
   "outputs": [
    {
     "data": {
      "application/vnd.jupyter.widget-view+json": {
       "model_id": "4145f6ad8f794a1a9f3abbf1ad31c00e",
       "version_major": 2,
       "version_minor": 0
      },
      "text/plain": [
       "interactive(children=(Dropdown(description='n', index=2, options=(32, 64, 128, 256, 512, 1024), value=128), Fl…"
      ]
     },
     "metadata": {},
     "output_type": "display_data"
    }
   ],
   "source": [
    "plt.close()\n",
    "@interact(    n=Dropdown(options=[32, 64, 128, 256, 512, 1024], index=2)\n",
    "#            ,n=[('30', 30), ('100', 100), ('200', 200)] # n=fixed(50)\n",
    "            ,x0=FloatSlider(.5, min=0., max=1., step=.001, layout=slider_layout)\n",
    "            ,r= FloatSlider(2.98, min=0., max=4., step=.001, layout=slider_layout)\n",
    "            ,threeToFour=False\n",
    "         )\n",
    "def graph_pop(n=30, x0=.5, r=2.4, threeToFour=False):\n",
    "    if threeToFour:\n",
    "        r = 3 + r/4\n",
    "    ts = range(n)\n",
    "    xs = tuple(islice(log_map_gen(x0=x0, r=r), n))\n",
    "    #tg_pprint(xs)\n",
    "    plt.gcf().clear()\n",
    "    plt.ylim((0, 1.))\n",
    "    plt.plot(ts, xs, marker=',')"
   ]
  },
  {
   "cell_type": "code",
   "execution_count": 15,
   "metadata": {},
   "outputs": [],
   "source": [
    "@numba.njit\n",
    "def gen_rs(rmin=1., rmax=4., nbins=2000):\n",
    "    delta = rmax - rmin\n",
    "    for i in range(nbins):\n",
    "        yield rmin + delta * i / nbins"
   ]
  },
  {
   "cell_type": "code",
   "execution_count": 27,
   "metadata": {},
   "outputs": [],
   "source": [
    "@numba.njit\n",
    "def gen_bifurication_map(rmin=0, rmax=4, nthrow=50, nkeep=50, nbins=2000):\n",
    "    rs = []\n",
    "    xs = []\n",
    "    for r in gen_rs(rmin=rmin, rmax=rmax, nbins=nbins):\n",
    "        lm_gen = log_map_gen(r=r)\n",
    "\n",
    "        for _ in range(nthrow):\n",
    "            next(lm_gen)\n",
    "\n",
    "        for _ in range(nkeep):\n",
    "            rs.append(r)\n",
    "            xs.append(next(lm_gen))\n",
    "\n",
    "        #x = tuple(islice(log_map_gen(r=r), nthrow, nthrow+nkeep))\n",
    "        #rs.append(len(x)*(r,))\n",
    "        #xs.append(x)\n",
    "    return rs, xs"
   ]
  },
  {
   "cell_type": "code",
   "execution_count": 40,
   "metadata": {},
   "outputs": [
    {
     "ename": "NameError",
     "evalue": "undefined output symbols: n",
     "output_type": "error",
     "traceback": [
      "\u001b[1;31m---------------------------------------------------------------------------\u001b[0m",
      "\u001b[1;31mNameError\u001b[0m                                 Traceback (most recent call last)",
      "\u001b[1;32m<ipython-input-40-157eb6348f77>\u001b[0m in \u001b[0;36m<module>\u001b[1;34m\u001b[0m\n\u001b[1;32m----> 1\u001b[1;33m \u001b[1;33m@\u001b[0m\u001b[0mnumba\u001b[0m\u001b[1;33m.\u001b[0m\u001b[0mguvectorize\u001b[0m\u001b[1;33m(\u001b[0m\u001b[1;33m[\u001b[0m\u001b[1;34m'void(float32, int32, float32[:])'\u001b[0m\u001b[1;33m]\u001b[0m\u001b[1;33m,\u001b[0m \u001b[1;34m'(),()->(n)'\u001b[0m\u001b[1;33m)\u001b[0m\u001b[1;33m\u001b[0m\u001b[1;33m\u001b[0m\u001b[0m\n\u001b[0m\u001b[0;32m      2\u001b[0m \u001b[1;32mdef\u001b[0m \u001b[0mgen_bifurication_map_v\u001b[0m\u001b[1;33m(\u001b[0m\u001b[0mr\u001b[0m\u001b[1;33m,\u001b[0m \u001b[0mnthrow\u001b[0m\u001b[1;33m,\u001b[0m \u001b[0mxs\u001b[0m\u001b[1;33m)\u001b[0m\u001b[1;33m:\u001b[0m\u001b[1;33m\u001b[0m\u001b[1;33m\u001b[0m\u001b[0m\n\u001b[0;32m      3\u001b[0m     \u001b[0mlm_gen\u001b[0m \u001b[1;33m=\u001b[0m \u001b[0mlog_map_gen\u001b[0m\u001b[1;33m(\u001b[0m\u001b[0mr\u001b[0m\u001b[1;33m=\u001b[0m\u001b[0mr\u001b[0m\u001b[1;33m)\u001b[0m\u001b[1;33m\u001b[0m\u001b[1;33m\u001b[0m\u001b[0m\n\u001b[0;32m      4\u001b[0m \u001b[1;33m\u001b[0m\u001b[0m\n\u001b[0;32m      5\u001b[0m     \u001b[1;32mfor\u001b[0m \u001b[0m_\u001b[0m \u001b[1;32min\u001b[0m \u001b[0mrange\u001b[0m\u001b[1;33m(\u001b[0m\u001b[0mnthrow\u001b[0m\u001b[1;33m)\u001b[0m\u001b[1;33m:\u001b[0m\u001b[1;33m\u001b[0m\u001b[1;33m\u001b[0m\u001b[0m\n",
      "\u001b[1;32mC:\\ProgramData\\Anaconda3\\lib\\site-packages\\numba\\npyufunc\\decorators.py\u001b[0m in \u001b[0;36mwrap\u001b[1;34m(func)\u001b[0m\n\u001b[0;32m    175\u001b[0m \u001b[1;33m\u001b[0m\u001b[0m\n\u001b[0;32m    176\u001b[0m     \u001b[1;32mdef\u001b[0m \u001b[0mwrap\u001b[0m\u001b[1;33m(\u001b[0m\u001b[0mfunc\u001b[0m\u001b[1;33m)\u001b[0m\u001b[1;33m:\u001b[0m\u001b[1;33m\u001b[0m\u001b[1;33m\u001b[0m\u001b[0m\n\u001b[1;32m--> 177\u001b[1;33m         \u001b[0mguvec\u001b[0m \u001b[1;33m=\u001b[0m \u001b[0mGUVectorize\u001b[0m\u001b[1;33m(\u001b[0m\u001b[0mfunc\u001b[0m\u001b[1;33m,\u001b[0m \u001b[0msignature\u001b[0m\u001b[1;33m,\u001b[0m \u001b[1;33m**\u001b[0m\u001b[0mkws\u001b[0m\u001b[1;33m)\u001b[0m\u001b[1;33m\u001b[0m\u001b[1;33m\u001b[0m\u001b[0m\n\u001b[0m\u001b[0;32m    178\u001b[0m         \u001b[1;32mfor\u001b[0m \u001b[0mfty\u001b[0m \u001b[1;32min\u001b[0m \u001b[0mftylist\u001b[0m\u001b[1;33m:\u001b[0m\u001b[1;33m\u001b[0m\u001b[1;33m\u001b[0m\u001b[0m\n\u001b[0;32m    179\u001b[0m             \u001b[0mguvec\u001b[0m\u001b[1;33m.\u001b[0m\u001b[0madd\u001b[0m\u001b[1;33m(\u001b[0m\u001b[0mfty\u001b[0m\u001b[1;33m)\u001b[0m\u001b[1;33m\u001b[0m\u001b[1;33m\u001b[0m\u001b[0m\n",
      "\u001b[1;32mC:\\ProgramData\\Anaconda3\\lib\\site-packages\\numba\\npyufunc\\decorators.py\u001b[0m in \u001b[0;36m__new__\u001b[1;34m(cls, func, signature, **kws)\u001b[0m\n\u001b[0;32m     48\u001b[0m         \u001b[0mimp\u001b[0m \u001b[1;33m=\u001b[0m \u001b[0mcls\u001b[0m\u001b[1;33m.\u001b[0m\u001b[0mget_target_implementation\u001b[0m\u001b[1;33m(\u001b[0m\u001b[0mkws\u001b[0m\u001b[1;33m)\u001b[0m\u001b[1;33m\u001b[0m\u001b[1;33m\u001b[0m\u001b[0m\n\u001b[0;32m     49\u001b[0m         return imp(func, signature, identity=identity, cache=cache,\n\u001b[1;32m---> 50\u001b[1;33m                    targetoptions=kws)\n\u001b[0m\u001b[0;32m     51\u001b[0m \u001b[1;33m\u001b[0m\u001b[0m\n\u001b[0;32m     52\u001b[0m \u001b[1;33m\u001b[0m\u001b[0m\n",
      "\u001b[1;32mC:\\ProgramData\\Anaconda3\\lib\\site-packages\\numba\\npyufunc\\ufuncbuilder.py\u001b[0m in \u001b[0;36m__init__\u001b[1;34m(self, py_func, signature, identity, cache, targetoptions)\u001b[0m\n\u001b[0;32m    301\u001b[0m         \u001b[0mself\u001b[0m\u001b[1;33m.\u001b[0m\u001b[0mnb_func\u001b[0m \u001b[1;33m=\u001b[0m \u001b[0mjit\u001b[0m\u001b[1;33m(\u001b[0m\u001b[0mtarget\u001b[0m\u001b[1;33m=\u001b[0m\u001b[1;34m'npyufunc'\u001b[0m\u001b[1;33m,\u001b[0m \u001b[0mcache\u001b[0m\u001b[1;33m=\u001b[0m\u001b[0mcache\u001b[0m\u001b[1;33m)\u001b[0m\u001b[1;33m(\u001b[0m\u001b[0mpy_func\u001b[0m\u001b[1;33m)\u001b[0m\u001b[1;33m\u001b[0m\u001b[1;33m\u001b[0m\u001b[0m\n\u001b[0;32m    302\u001b[0m         \u001b[0mself\u001b[0m\u001b[1;33m.\u001b[0m\u001b[0msignature\u001b[0m \u001b[1;33m=\u001b[0m \u001b[0msignature\u001b[0m\u001b[1;33m\u001b[0m\u001b[1;33m\u001b[0m\u001b[0m\n\u001b[1;32m--> 303\u001b[1;33m         \u001b[0mself\u001b[0m\u001b[1;33m.\u001b[0m\u001b[0msin\u001b[0m\u001b[1;33m,\u001b[0m \u001b[0mself\u001b[0m\u001b[1;33m.\u001b[0m\u001b[0msout\u001b[0m \u001b[1;33m=\u001b[0m \u001b[0mparse_signature\u001b[0m\u001b[1;33m(\u001b[0m\u001b[0msignature\u001b[0m\u001b[1;33m)\u001b[0m\u001b[1;33m\u001b[0m\u001b[1;33m\u001b[0m\u001b[0m\n\u001b[0m\u001b[0;32m    304\u001b[0m         \u001b[0mself\u001b[0m\u001b[1;33m.\u001b[0m\u001b[0mtargetoptions\u001b[0m \u001b[1;33m=\u001b[0m \u001b[0mtargetoptions\u001b[0m\u001b[1;33m\u001b[0m\u001b[1;33m\u001b[0m\u001b[0m\n\u001b[0;32m    305\u001b[0m         \u001b[0mself\u001b[0m\u001b[1;33m.\u001b[0m\u001b[0mcache\u001b[0m \u001b[1;33m=\u001b[0m \u001b[0mcache\u001b[0m\u001b[1;33m\u001b[0m\u001b[1;33m\u001b[0m\u001b[0m\n",
      "\u001b[1;32mC:\\ProgramData\\Anaconda3\\lib\\site-packages\\numba\\npyufunc\\sigparse.py\u001b[0m in \u001b[0;36mparse_signature\u001b[1;34m(sig)\u001b[0m\n\u001b[0;32m     61\u001b[0m     \u001b[0mdiff\u001b[0m \u001b[1;33m=\u001b[0m \u001b[0mosym\u001b[0m\u001b[1;33m.\u001b[0m\u001b[0mdifference\u001b[0m\u001b[1;33m(\u001b[0m\u001b[0misym\u001b[0m\u001b[1;33m)\u001b[0m\u001b[1;33m\u001b[0m\u001b[1;33m\u001b[0m\u001b[0m\n\u001b[0;32m     62\u001b[0m     \u001b[1;32mif\u001b[0m \u001b[0mdiff\u001b[0m\u001b[1;33m:\u001b[0m\u001b[1;33m\u001b[0m\u001b[1;33m\u001b[0m\u001b[0m\n\u001b[1;32m---> 63\u001b[1;33m         \u001b[1;32mraise\u001b[0m \u001b[0mNameError\u001b[0m\u001b[1;33m(\u001b[0m\u001b[1;34m'undefined output symbols: %s'\u001b[0m \u001b[1;33m%\u001b[0m \u001b[1;34m','\u001b[0m\u001b[1;33m.\u001b[0m\u001b[0mjoin\u001b[0m\u001b[1;33m(\u001b[0m\u001b[0msorted\u001b[0m\u001b[1;33m(\u001b[0m\u001b[0mdiff\u001b[0m\u001b[1;33m)\u001b[0m\u001b[1;33m)\u001b[0m\u001b[1;33m)\u001b[0m\u001b[1;33m\u001b[0m\u001b[1;33m\u001b[0m\u001b[0m\n\u001b[0m\u001b[0;32m     64\u001b[0m \u001b[1;33m\u001b[0m\u001b[0m\n\u001b[0;32m     65\u001b[0m     \u001b[1;32mreturn\u001b[0m \u001b[0minputs\u001b[0m\u001b[1;33m,\u001b[0m \u001b[0moutputs\u001b[0m\u001b[1;33m\u001b[0m\u001b[1;33m\u001b[0m\u001b[0m\n",
      "\u001b[1;31mNameError\u001b[0m: undefined output symbols: n"
     ]
    }
   ],
   "source": [
    "@numba.guvectorize(['void(float32[:], int32, float32[:])'], '(n),()->(n)')\n",
    "def gen_bifurication_map_v(r, nthrow, xs):\n",
    "    lm_gen = log_map_gen(r=r)\n",
    "    \n",
    "    for _ in range(nthrow):\n",
    "        next(lm_gen)\n",
    "\n",
    "    for i in range(xs.size):\n",
    "        xs[i] = next(lm_gen)"
   ]
  },
  {
   "cell_type": "code",
   "execution_count": 28,
   "metadata": {},
   "outputs": [],
   "source": [
    "def foobar(rmin_=0, rmax_=4.0):\n",
    "    #plt.close()\n",
    "    @interact_manual(    nthrow=Dropdown(options=(0, 1, 2, 3, 4, 10, 20, 40, 80, 160, 320, 640), index=7) # nthrow=fixed(50)\n",
    "                        ,nkeep= Dropdown(options=(   1, 2, 3, 4, 10, 20, 40, 80, 160, 320, 640), index=6)\n",
    "                        ,nbins= Dropdown(options=(8000, 16000, 32000, 64000, 128000, 256000, 512000), index=3)\n",
    "                        ,rmin=FloatSlider(rmin_, min=rmin_, max=rmax_, step=0.0001, layout=slider_layout)\n",
    "                        ,rmax=FloatSlider(rmax_, min=rmin_, max=rmax_, step=0.0001, layout=slider_layout)\n",
    "                    )\n",
    "    def plot_bifurication_map(rmin=0, rmax=4, nthrow=50, nkeep=50, nbins=2000):\n",
    "        #rs = []\n",
    "        #xs = []\n",
    "        #for r in gen_rs(rmin=rmin, rmax=rmax, nbins=nbins):\n",
    "        #    x = tuple(islice(log_map_gen(r=r), nthrow, nthrow+nkeep))\n",
    "        #    rs.append(len(x)*(r,))\n",
    "        #    xs.append(x)\n",
    "        rs, xs = gen_bifurication_map(rmin=rmin, rmax=rmax, nthrow=nthrow, nkeep=nkeep, nbins=nbins)\n",
    "        print(f'nrs:{len(rs)} nxs:{len(xs)} type rs:{type(rs)} xs:{type(xs)}')\n",
    "        #plt.yscale('linear')\n",
    "        #plt.gcf().clear()\n",
    "        plt.plot(tuple(rs), tuple(xs), marker='.', linewidth=0, markersize=.2)\n",
    "        tg_pprint(rs[:30])\n",
    "        tg_pprint(xs[:30])"
   ]
  },
  {
   "cell_type": "code",
   "execution_count": 29,
   "metadata": {},
   "outputs": [
    {
     "data": {
      "application/vnd.jupyter.widget-view+json": {
       "model_id": "cd6f7ee4f48a44d59ca001a5559691cd",
       "version_major": 2,
       "version_minor": 0
      },
      "text/plain": [
       "interactive(children=(FloatSlider(value=0.75, description='rmin', layout=Layout(width='66%'), max=4.0, min=0.7…"
      ]
     },
     "metadata": {},
     "output_type": "display_data"
    }
   ],
   "source": [
    "foobar(0.75, 4)\n",
    "#foobar(3.64, 3.74)\n",
    "#foobar(2.9, 3.1)"
   ]
  },
  {
   "cell_type": "code",
   "execution_count": 11,
   "metadata": {},
   "outputs": [
    {
     "data": {
      "application/vnd.jupyter.widget-view+json": {
       "model_id": "",
       "version_major": 2,
       "version_minor": 0
      },
      "text/plain": [
       "Canvas(toolbar=Toolbar(toolitems=[('Home', 'Reset original view', 'home', 'home'), ('Back', 'Back to previous …"
      ]
     },
     "metadata": {},
     "output_type": "display_data"
    }
   ],
   "source": [
    "plt.close()\n",
    "plt.figure()\n",
    "import matplotlib.widgets\n",
    "\n",
    "hbox = HBox()\n",
    "\n",
    "def graph_pop(n=30, x0=.5, r=2.4, threeToFour=False, out=hbox):\n",
    "    with out:\n",
    "        if threeToFour:\n",
    "            r = 3 + r/4\n",
    "        ts = range(n)\n",
    "        xs = tuple(islice(log_map_gen(x0=x0, r=r), n))\n",
    "        #tg_pprint(xs)\n",
    "        plt.gcf().clear()\n",
    "        plt.ylim((0, 1.))\n",
    "        plt.plot(ts, xs, marker=',')\n",
    "\n",
    "#w = interactive( graph_pop, n=Dropdown(options=[32, 64, 128, 256, 512, 1024])\n",
    "#            ,n=[('30', 30), ('100', 100), ('200', 200)] # n=fixed(50)\n",
    "#            ,x0=FloatSlider(.5, min=0., max=1., step=.001)\n",
    "#            ,r= FloatSlider(2.98, min=0., max=4., step=.001)\n",
    "#            ,threeToFour=False\n",
    "#         )\n",
    "\n",
    "#hbox.children += (w,)"
   ]
  },
  {
   "cell_type": "code",
   "execution_count": 12,
   "metadata": {},
   "outputs": [],
   "source": [
    "#import bokeh.plotting as plotting\n",
    "\n",
    "#plotting.output_notebook()\n",
    "\n",
    "#f = plotting.figure(plot_width=600, plot_height=400)\n",
    "#f.circle(*zip(*gen_r_e(nbins=500000)),size=.5)\n",
    "#plotting.show(f)"
   ]
  },
  {
   "cell_type": "code",
   "execution_count": 13,
   "metadata": {},
   "outputs": [],
   "source": [
    "def gen_mandel(xrng=(-2,.5), yrng=(-1,1), horizon=2, nbins=100, niter=32):\n",
    "    rng = ((xrng[1] - xrng[0])\n",
    "          ,(yrng[1] - yrng[0])\n",
    "          )\n",
    "    delta = tuple(map(lambda v: v/nbins, rng))\n",
    "\n",
    "    xs = np.linspace(*xrng, nbins, dtype=float)\n",
    "    ys = np.linspace(*yrng, nbins, dtype=float)\n",
    "    cs = xs + ys[:, None]*1j\n",
    "    ns = np.zeros(cs.shape, dtype=int)\n",
    "    zs = np.zeros(cs.shape, dtype=np.complex64)\n",
    "    m  = np.zeros((nbins, nbins), dtype=complex)\n",
    "    \n",
    "    for it in range(niter):\n",
    "        i = np.less(abs(zs), horizon)\n",
    "        ns[i] = it\n",
    "        zs[i] = zs[i]**2 + cs[i]\n",
    "    ns[ns == niter - 1] = 0\n",
    "    \n",
    "    log_horizon = np.log(np.log(horizon))/np.log(2)\n",
    "    with np.errstate(invalid='ignore'):\n",
    "        zs = np.nan_to_num(ns + 1 - np.log(np.log(abs(zs))/np.log(2) + log_horizon))\n",
    "    return zs, ns, cs"
   ]
  },
  {
   "cell_type": "code",
   "execution_count": 14,
   "metadata": {},
   "outputs": [
    {
     "data": {
      "text/plain": [
       "<matplotlib.image.AxesImage at 0x24fec5290c8>"
      ]
     },
     "execution_count": 14,
     "metadata": {},
     "output_type": "execute_result"
    }
   ],
   "source": [
    "zs, ns, cs = gen_mandel(nbins=1000, horizon=2**10)\n",
    "#plt.countour(xs, ys, np.absolute(m))\n",
    "plt.imshow(np.absolute(zs))\n",
    "#tg_pprint(zs)"
   ]
  },
  {
   "cell_type": "code",
   "execution_count": 15,
   "metadata": {
    "jupyter": {
     "source_hidden": true
    }
   },
   "outputs": [
    {
     "data": {
      "application/vnd.jupyter.widget-view+json": {
       "model_id": "",
       "version_major": 2,
       "version_minor": 0
      },
      "text/plain": [
       "Canvas(toolbar=Toolbar(toolitems=[('Home', 'Reset original view', 'home', 'home'), ('Back', 'Back to previous …"
      ]
     },
     "metadata": {},
     "output_type": "display_data"
    },
    {
     "data": {
      "text/plain": [
       "<mpl_toolkits.mplot3d.art3d.Path3DCollection at 0x24fee04ce48>"
      ]
     },
     "execution_count": 15,
     "metadata": {},
     "output_type": "execute_result"
    }
   ],
   "source": [
    "from mpl_toolkits import mplot3d\n",
    "\n",
    "fig = plt.figure()\n",
    "ax = plt.axes(projection='3d')\n",
    "ax.view_init(azim=-90, elev=90)\n",
    "ax.scatter3D(cs.real, cs.imag, abs(zs), c=abs(zs).flat, marker='.')"
   ]
  },
  {
   "cell_type": "code",
   "execution_count": 16,
   "metadata": {},
   "outputs": [
    {
     "data": {
      "text/plain": [
       "2.398536220281028"
      ]
     },
     "execution_count": 16,
     "metadata": {},
     "output_type": "execute_result"
    }
   ],
   "source": [
    "abs(2+-1.324j)"
   ]
  },
  {
   "cell_type": "code",
   "execution_count": 17,
   "metadata": {},
   "outputs": [
    {
     "name": "stdout",
     "output_type": "stream",
     "text": [
      "Machine parameters for float64\n",
      "---------------------------------------------------------------\n",
      "precision =  15   resolution = 1.0000000000000001e-15\n",
      "machep =    -52   eps =        2.2204460492503131e-16\n",
      "negep =     -53   epsneg =     1.1102230246251565e-16\n",
      "minexp =  -1022   tiny =       2.2250738585072014e-308\n",
      "maxexp =   1024   max =        1.7976931348623157e+308\n",
      "nexp =       11   min =        -max\n",
      "---------------------------------------------------------------\n",
      "\n"
     ]
    }
   ],
   "source": [
    "print(np.finfo(np.float64))"
   ]
  }
 ],
 "metadata": {
  "kernelspec": {
   "display_name": "Python 3",
   "language": "python",
   "name": "python3"
  },
  "language_info": {
   "codemirror_mode": {
    "name": "ipython",
    "version": 3
   },
   "file_extension": ".py",
   "mimetype": "text/x-python",
   "name": "python",
   "nbconvert_exporter": "python",
   "pygments_lexer": "ipython3",
   "version": "3.7.6"
  }
 },
 "nbformat": 4,
 "nbformat_minor": 4
}
