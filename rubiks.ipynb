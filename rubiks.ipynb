{
 "cells": [
  {
   "cell_type": "code",
   "execution_count": 1,
   "metadata": {},
   "outputs": [],
   "source": [
    "from colorama import (Fore, Style)\n",
    "\n",
    "from collections import (ChainMap, OrderedDict)\n",
    "from collections.abc import Iterable\n",
    "from pprint import (pformat, pprint)\n",
    "\n",
    "import itertools\n",
    "import types"
   ]
  },
  {
   "cell_type": "code",
   "execution_count": 2,
   "metadata": {},
   "outputs": [],
   "source": [
    "rwb = ('r', 'w', 'b')\n",
    "oyg = ('o', 'y', 'g')\n",
    "\n",
    "console_colors = {\n",
    "    'r': Fore.RED,\n",
    "    'w': Fore.WHITE,\n",
    "    'b': Fore.BLUE,\n",
    "    'o': Fore.LIGHTYELLOW_EX,\n",
    "    'y': Fore.YELLOW,\n",
    "    'g': Fore.GREEN,\n",
    "}\n",
    "\n",
    "colorstrs = {\n",
    "    'r': f'red',\n",
    "    'w': f'white',\n",
    "    'b': f'blue',\n",
    "    'o': f'orange',\n",
    "    'y': f'yellow',\n",
    "    'g': f'green',\n",
    "}\n",
    "\n",
    "short_colorstrs = { k:f'{console_colors[k]}{k}{Style.RESET_ALL}' for k, v in colorstrs.items() }\n",
    "long_colorstrs  = { k:f'{console_colors[k]}{v}{Style.RESET_ALL}' for k, v in colorstrs.items() }\n",
    "\n",
    "assert len(rwb) == len(set(rwb))\n",
    "assert len(oyg) == len(set(oyg))\n",
    "assert len(rwb) == len(oyg)"
   ]
  },
  {
   "cell_type": "code",
   "execution_count": 3,
   "metadata": {},
   "outputs": [
    {
     "name": "stdout",
     "output_type": "stream",
     "text": [
      "colors:     frozenset({'g', 'r', 'b', 'o', 'w', 'y'})\n",
      "anticolors: ChainMap({'r': 'o', 'w': 'y', 'b': 'g'}, {'o': 'r', 'y': 'w', 'g': 'b'})\n",
      "anticolors: {'o': 'r', 'y': 'w', 'g': 'b', 'r': 'o', 'w': 'y', 'b': 'g'}\n"
     ]
    }
   ],
   "source": [
    "colors = frozenset(rwb).union(frozenset(oyg))\n",
    "\n",
    "anticolors = ChainMap(\n",
    "    dict(zip(rwb, oyg)),\n",
    "    dict(zip(oyg, rwb))\n",
    ")\n",
    "\n",
    "assert len(colors) == len(anticolors)\n",
    "\n",
    "print(f'colors:     {colors}')\n",
    "print(f'anticolors: {anticolors}')\n",
    "print(f'anticolors: { {**anticolors}}')"
   ]
  },
  {
   "cell_type": "code",
   "execution_count": 4,
   "metadata": {},
   "outputs": [],
   "source": [
    "def unescape(string):\n",
    "    return string.encode('utf-8').decode('unicode_escape')"
   ]
  },
  {
   "cell_type": "code",
   "execution_count": 5,
   "metadata": {},
   "outputs": [],
   "source": [
    "def tupleify(item):\n",
    "    if isinstance(item, (filter, map, types.GeneratorType)): return tuple(item)\n",
    "    return item"
   ]
  },
  {
   "cell_type": "code",
   "execution_count": 6,
   "metadata": {},
   "outputs": [],
   "source": [
    "def forward(order):\n",
    "    order = tupleify(order)\n",
    "    return order[-1:]+order[:-1]\n",
    "\n",
    "def backward(order):\n",
    "    order = tupleify(order)\n",
    "    return order[1:]+order[:1]\n",
    "\n",
    "def make_anti(thing):\n",
    "    thing = tupleify(thing)\n",
    "\n",
    "    if isinstance(thing, str):\n",
    "        return anticolors[thing]\n",
    "    elif isinstance(thing, dict):\n",
    "        return {k:anticolors[v] for k, v in thing.items()}\n",
    "    elif isinstance(thing, (set, frozenset)):\n",
    "        return frozenset((k,anticolors[v]) for k,v in thing)\n",
    "    if isinstance(thing, tuple) and len(thing[0]) == 2:\n",
    "        return tuple((k,anticolors[v]) for k, v in thing)\n",
    "\n",
    "    return type(thing)(map(make_anti, thing))"
   ]
  },
  {
   "cell_type": "code",
   "execution_count": 7,
   "metadata": {},
   "outputs": [],
   "source": [
    "def get_adjacents(color):\n",
    "    return filter(lambda c: c != color and c != anticolors[color], colors)"
   ]
  },
  {
   "cell_type": "code",
   "execution_count": 8,
   "metadata": {},
   "outputs": [],
   "source": [
    "def is_anti(cube1, cube2):\n",
    "    for k1, v1 in cube1:\n",
    "        for k2, v2 in filter(lambda kv2: kv2[0] == k1, cube2):\n",
    "            if not v1 == anticolors[v2]:\n",
    "                return False\n",
    "    return True\n",
    "\n",
    "def is_solved(cube):\n",
    "    cube = tupleify(cube)\n",
    "    return len(cube) == sum(1 for _ in filter(lambda kv: kv[0] == kv[1], cube))\n",
    "    \n",
    "def is_not_solved(cube):\n",
    "    return not is_solved(cube)\n",
    "\n",
    "def is_anti_solved(cube):\n",
    "    return is_solved(make_anti(cube))\n",
    "\n",
    "def is_not_anti_solved(cube):\n",
    "    return not is_anti_solved(cube)\n",
    "\n",
    "def is_ptn(cube, ptn=rwb):\n",
    "    cube = tupleify(cube)\n",
    "    ant = tuple(filter(lambda c: c not in ptn, colors))\n",
    "    for k, v in cube:\n",
    "        if k in ptn and v not in ptn: return False\n",
    "        if k in ant and v not in ant: return False\n",
    "    return True\n",
    "\n",
    "def is_rwb(cube):\n",
    "    return is_ptn(cube, ptn=rwb)"
   ]
  },
  {
   "cell_type": "code",
   "execution_count": 9,
   "metadata": {},
   "outputs": [],
   "source": [
    "def get_pairs(cube, useequal=True):\n",
    "    return frozenset(\n",
    "        {frozenset({k, v}) for k, v in cube if useequal or k != v}\n",
    "    )\n",
    "\n",
    "def get_npairs(cube, **kwargs):\n",
    "    return len(get_pairs(cube, **kwargs))"
   ]
  },
  {
   "cell_type": "code",
   "execution_count": 10,
   "metadata": {},
   "outputs": [],
   "source": [
    "def filter_colors(*args, colors=colors):\n",
    "    return colors.difference({*args, *map(make_anti, args)})\n",
    "\n",
    "def make_rots(colors=colors, anticolors=anticolors):\n",
    "    return frozenset({\n",
    "        frozenset({(c1, c2), (c2, c3), (c3, c1)})\n",
    "            for c1 in colors\n",
    "                for c2 in filter_colors(c1)\n",
    "                    for c3 in filter_colors(c1, c2)\n",
    "    })"
   ]
  },
  {
   "cell_type": "code",
   "execution_count": 11,
   "metadata": {},
   "outputs": [],
   "source": [
    "def to_sorted(thing, reverse=False):\n",
    "    if     isinstance(thing, str):      return thing\n",
    "    if not isinstance(thing, Iterable): return thing\n",
    "\n",
    "    # assume its a mapping not meant to be sorted\n",
    "    if isinstance(thing, tuple) and len(thing) == 2:\n",
    "        return thing\n",
    "\n",
    "    sthing = sorted(map(to_sorted, thing), reverse=reverse)\n",
    "\n",
    "    if isinstance(thing, (frozenset, set, dict, map, filter)):\n",
    "        return tuple(sthing)\n",
    "\n",
    "    return type(thing)(sthing)"
   ]
  },
  {
   "cell_type": "code",
   "execution_count": 12,
   "metadata": {},
   "outputs": [],
   "source": [
    "def to_frozen(thing):\n",
    "    if isinstance(thing, (str, dict)):  return thing\n",
    "    if not isinstance(thing, Iterable): return thing\n",
    "\n",
    "    if isinstance(thing, tuple) and len(thing) == 2:\n",
    "        return thing\n",
    "\n",
    "    return frozenset(map(to_frozen, thing))"
   ]
  },
  {
   "cell_type": "code",
   "execution_count": 13,
   "metadata": {},
   "outputs": [],
   "source": [
    "def to_set(thing):\n",
    "    if isinstance(thing, (str, dict)):  return thing\n",
    "    if not isinstance(thing, Iterable): return thing\n",
    "\n",
    "    if isinstance(thing, tuple) and len(thing) == 2:\n",
    "        return thing\n",
    "\n",
    "    return set(map(to_frozen, thing))"
   ]
  },
  {
   "cell_type": "code",
   "execution_count": 14,
   "metadata": {},
   "outputs": [],
   "source": [
    "def string_swap(item, colorstrs=short_colorstrs):    \n",
    "    if isinstance(item, str):\n",
    "        if item not in colorstrs:\n",
    "            return item\n",
    "        width = max(map(len, colorstrs.values()))\n",
    "        return f'{colorstrs[item]:{width}}'\n",
    "\n",
    "    if not isinstance(item, Iterable):\n",
    "        return item\n",
    "\n",
    "    return type(item)(map(lambda s: string_swap(s, colorstrs=colorstrs), item))"
   ]
  },
  {
   "cell_type": "code",
   "execution_count": 15,
   "metadata": {},
   "outputs": [],
   "source": [
    "def unescape_pformat(item, colorstrs=short_colorstrs, width=400, **kwargs):\n",
    "    item = tupleify(item)\n",
    "    kwargs.update(width=width)\n",
    "    return unescape(\n",
    "        pformat(string_swap(item, colorstrs=colorstrs), **kwargs)\n",
    "    )\n",
    "\n",
    "def unescape_pprint(item, **kwargs):\n",
    "    print(unescape_pformat(item, **kwargs))"
   ]
  },
  {
   "cell_type": "code",
   "execution_count": 16,
   "metadata": {},
   "outputs": [],
   "source": [
    "def remove_anti(checkers, reverse=False):\n",
    "    checkers = tupleify(checkers)\n",
    "    scheckers = set()\n",
    "    for chk in checkers:\n",
    "        fcheckers = list(filter(lambda chk2: chk2 is chk or is_anti(chk2, chk), checkers))\n",
    "\n",
    "        scheckers.add(\n",
    "            fcheckers[-1 if reverse else 0]\n",
    "        )\n",
    "    return frozenset(scheckers)"
   ]
  },
  {
   "cell_type": "code",
   "execution_count": 17,
   "metadata": {},
   "outputs": [],
   "source": [
    "def str_cube(cube, sort=True, reverse=False, width=None, sep=', ', colorstrs=long_colorstrs):\n",
    "    cube = tupleify(cube)\n",
    "\n",
    "    if sort: cube = to_sorted(cube, reverse=reverse)\n",
    "\n",
    "    if colorstrs is not None:\n",
    "        cube = ( (colorstrs[k], colorstrs[v]) for k, v in cube )\n",
    "\n",
    "    if width is None:\n",
    "        if colorstrs is None:\n",
    "            width = max(map(len, itertools.chain(*zip(*cube))))\n",
    "        else:\n",
    "            width = max(map(len, colorstrs.values()))\n",
    "\n",
    "    return sep.join(f'{k:{width}} => {v:{width}}' for k, v in cube)\n",
    "\n",
    "def print_cube(cube, **kwargs):\n",
    "    print(str_cube(cube, **kwargs))"
   ]
  },
  {
   "cell_type": "code",
   "execution_count": 18,
   "metadata": {},
   "outputs": [],
   "source": [
    "def str_cubes(cubes, sort=True, reverse=False, cubesep='\\n', **kwargs):\n",
    "    cubes = tupleify(cubes)\n",
    "    if sort: cubes = to_sorted(cubes, reverse=reverse)    \n",
    "    kwargs.update({'sort':sort, 'reverse': reverse})\n",
    "    return f'ncubes: {len(cubes)}\\n'+cubesep.join(map(lambda cube: str_cube(cube, **kwargs), cubes))\n",
    "\n",
    "def print_cubes(cubes, **kwargs):\n",
    "    print(str_cubes(cubes, **kwargs))"
   ]
  },
  {
   "cell_type": "code",
   "execution_count": 19,
   "metadata": {},
   "outputs": [
    {
     "name": "stdout",
     "output_type": "stream",
     "text": [
      "nrotations: 16\n",
      "((('\u001b[34mblue\u001b[0m  ', '\u001b[93morange\u001b[0m'), ('\u001b[93morange\u001b[0m', '\u001b[37mwhite\u001b[0m '), ('\u001b[37mwhite\u001b[0m ', '\u001b[34mblue\u001b[0m  ')),\n",
      " (('\u001b[34mblue\u001b[0m  ', '\u001b[93morange\u001b[0m'), ('\u001b[93morange\u001b[0m', '\u001b[33myellow\u001b[0m'), ('\u001b[33myellow\u001b[0m', '\u001b[34mblue\u001b[0m  ')),\n",
      " (('\u001b[34mblue\u001b[0m  ', '\u001b[31mred\u001b[0m   '), ('\u001b[31mred\u001b[0m   ', '\u001b[37mwhite\u001b[0m '), ('\u001b[37mwhite\u001b[0m ', '\u001b[34mblue\u001b[0m  ')),\n",
      " (('\u001b[34mblue\u001b[0m  ', '\u001b[31mred\u001b[0m   '), ('\u001b[31mred\u001b[0m   ', '\u001b[33myellow\u001b[0m'), ('\u001b[33myellow\u001b[0m', '\u001b[34mblue\u001b[0m  ')),\n",
      " (('\u001b[34mblue\u001b[0m  ', '\u001b[37mwhite\u001b[0m '), ('\u001b[93morange\u001b[0m', '\u001b[34mblue\u001b[0m  '), ('\u001b[37mwhite\u001b[0m ', '\u001b[93morange\u001b[0m')),\n",
      " (('\u001b[34mblue\u001b[0m  ', '\u001b[37mwhite\u001b[0m '), ('\u001b[31mred\u001b[0m   ', '\u001b[34mblue\u001b[0m  '), ('\u001b[37mwhite\u001b[0m ', '\u001b[31mred\u001b[0m   ')),\n",
      " (('\u001b[34mblue\u001b[0m  ', '\u001b[33myellow\u001b[0m'), ('\u001b[93morange\u001b[0m', '\u001b[34mblue\u001b[0m  '), ('\u001b[33myellow\u001b[0m', '\u001b[93morange\u001b[0m')),\n",
      " (('\u001b[34mblue\u001b[0m  ', '\u001b[33myellow\u001b[0m'), ('\u001b[31mred\u001b[0m   ', '\u001b[34mblue\u001b[0m  '), ('\u001b[33myellow\u001b[0m', '\u001b[31mred\u001b[0m   ')),\n",
      " (('\u001b[32mgreen\u001b[0m ', '\u001b[93morange\u001b[0m'), ('\u001b[93morange\u001b[0m', '\u001b[37mwhite\u001b[0m '), ('\u001b[37mwhite\u001b[0m ', '\u001b[32mgreen\u001b[0m ')),\n",
      " (('\u001b[32mgreen\u001b[0m ', '\u001b[93morange\u001b[0m'), ('\u001b[93morange\u001b[0m', '\u001b[33myellow\u001b[0m'), ('\u001b[33myellow\u001b[0m', '\u001b[32mgreen\u001b[0m ')),\n",
      " (('\u001b[32mgreen\u001b[0m ', '\u001b[31mred\u001b[0m   '), ('\u001b[31mred\u001b[0m   ', '\u001b[37mwhite\u001b[0m '), ('\u001b[37mwhite\u001b[0m ', '\u001b[32mgreen\u001b[0m ')),\n",
      " (('\u001b[32mgreen\u001b[0m ', '\u001b[31mred\u001b[0m   '), ('\u001b[31mred\u001b[0m   ', '\u001b[33myellow\u001b[0m'), ('\u001b[33myellow\u001b[0m', '\u001b[32mgreen\u001b[0m ')),\n",
      " (('\u001b[32mgreen\u001b[0m ', '\u001b[37mwhite\u001b[0m '), ('\u001b[93morange\u001b[0m', '\u001b[32mgreen\u001b[0m '), ('\u001b[37mwhite\u001b[0m ', '\u001b[93morange\u001b[0m')),\n",
      " (('\u001b[32mgreen\u001b[0m ', '\u001b[37mwhite\u001b[0m '), ('\u001b[31mred\u001b[0m   ', '\u001b[32mgreen\u001b[0m '), ('\u001b[37mwhite\u001b[0m ', '\u001b[31mred\u001b[0m   ')),\n",
      " (('\u001b[32mgreen\u001b[0m ', '\u001b[33myellow\u001b[0m'), ('\u001b[93morange\u001b[0m', '\u001b[32mgreen\u001b[0m '), ('\u001b[33myellow\u001b[0m', '\u001b[93morange\u001b[0m')),\n",
      " (('\u001b[32mgreen\u001b[0m ', '\u001b[33myellow\u001b[0m'), ('\u001b[31mred\u001b[0m   ', '\u001b[32mgreen\u001b[0m '), ('\u001b[33myellow\u001b[0m', '\u001b[31mred\u001b[0m   ')))\n"
     ]
    }
   ],
   "source": [
    "rots = make_rots()\n",
    "print(f'nrotations: {len(rots)}')\n",
    "unescape_pprint(to_sorted(rots), colorstrs=long_colorstrs)"
   ]
  },
  {
   "cell_type": "code",
   "execution_count": 20,
   "metadata": {},
   "outputs": [],
   "source": [
    "def rot_to_order(rot):\n",
    "    if not isinstance(rot, dict):\n",
    "        rot = dict(rot)\n",
    "\n",
    "    order = []\n",
    "    color = next(iter(rot))\n",
    "    for _ in range(len(rot)):\n",
    "        order.append(color)\n",
    "        color = rot[color]\n",
    "\n",
    "    return tuple(order)\n",
    "\n",
    "def make_checkers(rots):\n",
    "    solved   = frozenset(zip(rwb, rwb)).union(zip(make_anti(rwb), make_anti(rwb)))\n",
    "    checkers = set({solved, make_anti(solved)})\n",
    "\n",
    "    for rot in rots:\n",
    "        order     = rot_to_order(rot)\n",
    "        antiorder = make_anti(order)\n",
    "\n",
    "        chk     = frozenset(zip(order, forward( order))).union(zip(antiorder, forward( antiorder)))\n",
    "        bck_chk = frozenset(zip(order, backward(order))).union(zip(antiorder, backward(antiorder)))\n",
    "\n",
    "        assert len(chk)     == len(colors), (chk, colors)\n",
    "        assert len(bck_chk) == len(colors), (bck_chk, colors)\n",
    "\n",
    "        checkers.update({\n",
    "            chk,\n",
    "            make_anti(chk),\n",
    "            bck_chk,\n",
    "            make_anti(bck_chk)\n",
    "        })\n",
    "\n",
    "    return frozenset(checkers)"
   ]
  },
  {
   "cell_type": "code",
   "execution_count": 21,
   "metadata": {},
   "outputs": [
    {
     "name": "stdout",
     "output_type": "stream",
     "text": [
      "num:                                18\n",
      "num not solved:                     17\n",
      "num not solved and not anti-solved: 16\n",
      "num rwb:                            3\n"
     ]
    }
   ],
   "source": [
    "checkers          = make_checkers(rots)\n",
    "fwd_anti          = remove_anti(checkers, False)\n",
    "bck_anti          = remove_anti(checkers, True )\n",
    "no_anti_checkers  = bck_anti\n",
    "\n",
    "assert no_anti_checkers.issubset(checkers)\n",
    "assert checkers.issuperset(no_anti_checkers)\n",
    "\n",
    "assert fwd_anti != bck_anti\n",
    "assert set() == fwd_anti.intersection(bck_anti)\n",
    "assert fwd_anti.union(               bck_anti) == checkers\n",
    "assert fwd_anti.symmetric_difference(bck_anti) == checkers\n",
    "\n",
    "chkint = checkers.intersection(no_anti_checkers)\n",
    "chkdif = checkers.difference(  no_anti_checkers)\n",
    "\n",
    "assert set() == no_anti_checkers.difference(checkers)\n",
    "assert checkers == chkdif.symmetric_difference(chkint)\n",
    "\n",
    "print(f'num:                                {len(checkers)}')\n",
    "print(f'num not solved:                     {sum(1 for i in filter(is_not_solved, checkers))}')\n",
    "print(f'num not solved and not anti-solved: {sum(1 for i in filter(is_not_anti_solved, filter(is_not_solved, checkers)))}')\n",
    "print(f'num rwb:                            {sum(1 for i in filter(is_rwb, checkers))}')"
   ]
  },
  {
   "cell_type": "code",
   "execution_count": 22,
   "metadata": {},
   "outputs": [],
   "source": [
    "def check_cube(chk):\n",
    "    solved      = is_solved(chk)\n",
    "    anti_solved = is_anti_solved(chk)\n",
    "\n",
    "    chk = dict(chk)\n",
    "    \n",
    "    for k, v in chk.items():\n",
    "        if not solved:\n",
    "            assert k != v, chk\n",
    "        if not anti_solved:\n",
    "            assert v != anticolors[k], chk\n",
    "            assert k != anticolors[v], chk\n",
    "\n",
    "        vadj = tuple(get_adjacents(v))\n",
    "\n",
    "        for a in get_adjacents(k):\n",
    "            av = chk[a]\n",
    "            assert av in vadj, (chk, (k, v, a, av), tuple(vadj))\n",
    "            assert v in get_adjacents(av), tuple(get_adjacents(av))\n",
    "\n",
    "def check_cubes(checkers):\n",
    "    checkers = tupleify(checkers)\n",
    "\n",
    "    equivalents = map(\n",
    "        lambda chk: sum(\n",
    "            1 for _ in filter(lambda chk2: chk2 == chk, checkers)\n",
    "        ),\n",
    "        checkers\n",
    "    )\n",
    "\n",
    "    assert sum(equivalents) == len(checkers)\n",
    "\n",
    "    for chk in checkers:\n",
    "        matches = filter(lambda a: a == chk, checkers)\n",
    "        assert 1 == sum(1 for _ in matches)\n",
    "    return tuple(map(check_cube, checkers))"
   ]
  },
  {
   "cell_type": "code",
   "execution_count": 23,
   "metadata": {},
   "outputs": [],
   "source": [
    "check_cubes(checkers)\n",
    "check_cubes(to_sorted(checkers))\n",
    "\n",
    "assert len(to_sorted(checkers)) == len(checkers)\n",
    "assert len(frozenset(to_sorted(checkers)))  == len(checkers)"
   ]
  },
  {
   "cell_type": "code",
   "execution_count": 24,
   "metadata": {},
   "outputs": [
    {
     "name": "stdout",
     "output_type": "stream",
     "text": [
      "ncubes: 1\n",
      "\u001b[34mblue\u001b[0m   => \u001b[34mblue\u001b[0m  , \u001b[32mgreen\u001b[0m  => \u001b[32mgreen\u001b[0m , \u001b[93morange\u001b[0m => \u001b[93morange\u001b[0m, \u001b[31mred\u001b[0m    => \u001b[31mred\u001b[0m   , \u001b[37mwhite\u001b[0m  => \u001b[37mwhite\u001b[0m , \u001b[33myellow\u001b[0m => \u001b[33myellow\u001b[0m\n"
     ]
    }
   ],
   "source": [
    "print_cubes(filter(is_solved, checkers))"
   ]
  },
  {
   "cell_type": "code",
   "execution_count": 25,
   "metadata": {},
   "outputs": [
    {
     "name": "stdout",
     "output_type": "stream",
     "text": [
      "ncubes: 1\n",
      "\u001b[34mblue\u001b[0m   => \u001b[32mgreen\u001b[0m , \u001b[32mgreen\u001b[0m  => \u001b[34mblue\u001b[0m  , \u001b[93morange\u001b[0m => \u001b[31mred\u001b[0m   , \u001b[31mred\u001b[0m    => \u001b[93morange\u001b[0m, \u001b[37mwhite\u001b[0m  => \u001b[33myellow\u001b[0m, \u001b[33myellow\u001b[0m => \u001b[37mwhite\u001b[0m \n"
     ]
    }
   ],
   "source": [
    "print_cubes(filter(is_anti_solved, checkers))"
   ]
  },
  {
   "cell_type": "code",
   "execution_count": 26,
   "metadata": {},
   "outputs": [
    {
     "name": "stdout",
     "output_type": "stream",
     "text": [
      "ncubes: 3\n",
      "\u001b[34mblue\u001b[0m   => \u001b[34mblue\u001b[0m  , \u001b[32mgreen\u001b[0m  => \u001b[32mgreen\u001b[0m , \u001b[93morange\u001b[0m => \u001b[93morange\u001b[0m, \u001b[31mred\u001b[0m    => \u001b[31mred\u001b[0m   , \u001b[37mwhite\u001b[0m  => \u001b[37mwhite\u001b[0m , \u001b[33myellow\u001b[0m => \u001b[33myellow\u001b[0m\n",
      "\u001b[34mblue\u001b[0m   => \u001b[31mred\u001b[0m   , \u001b[32mgreen\u001b[0m  => \u001b[93morange\u001b[0m, \u001b[93morange\u001b[0m => \u001b[33myellow\u001b[0m, \u001b[31mred\u001b[0m    => \u001b[37mwhite\u001b[0m , \u001b[37mwhite\u001b[0m  => \u001b[34mblue\u001b[0m  , \u001b[33myellow\u001b[0m => \u001b[32mgreen\u001b[0m \n",
      "\u001b[34mblue\u001b[0m   => \u001b[37mwhite\u001b[0m , \u001b[32mgreen\u001b[0m  => \u001b[33myellow\u001b[0m, \u001b[93morange\u001b[0m => \u001b[32mgreen\u001b[0m , \u001b[31mred\u001b[0m    => \u001b[34mblue\u001b[0m  , \u001b[37mwhite\u001b[0m  => \u001b[31mred\u001b[0m   , \u001b[33myellow\u001b[0m => \u001b[93morange\u001b[0m\n"
     ]
    }
   ],
   "source": [
    "print_cubes(filter(is_rwb, checkers))"
   ]
  },
  {
   "cell_type": "code",
   "execution_count": 27,
   "metadata": {},
   "outputs": [
    {
     "name": "stdout",
     "output_type": "stream",
     "text": [
      "ncubes: 8\n",
      "\u001b[34mblue\u001b[0m   => \u001b[93morange\u001b[0m, \u001b[32mgreen\u001b[0m  => \u001b[31mred\u001b[0m   , \u001b[93morange\u001b[0m => \u001b[37mwhite\u001b[0m , \u001b[31mred\u001b[0m    => \u001b[33myellow\u001b[0m, \u001b[37mwhite\u001b[0m  => \u001b[32mgreen\u001b[0m , \u001b[33myellow\u001b[0m => \u001b[34mblue\u001b[0m  \n",
      "\u001b[34mblue\u001b[0m   => \u001b[93morange\u001b[0m, \u001b[32mgreen\u001b[0m  => \u001b[31mred\u001b[0m   , \u001b[93morange\u001b[0m => \u001b[33myellow\u001b[0m, \u001b[31mred\u001b[0m    => \u001b[37mwhite\u001b[0m , \u001b[37mwhite\u001b[0m  => \u001b[32mgreen\u001b[0m , \u001b[33myellow\u001b[0m => \u001b[34mblue\u001b[0m  \n",
      "\u001b[34mblue\u001b[0m   => \u001b[31mred\u001b[0m   , \u001b[32mgreen\u001b[0m  => \u001b[93morange\u001b[0m, \u001b[93morange\u001b[0m => \u001b[37mwhite\u001b[0m , \u001b[31mred\u001b[0m    => \u001b[33myellow\u001b[0m, \u001b[37mwhite\u001b[0m  => \u001b[32mgreen\u001b[0m , \u001b[33myellow\u001b[0m => \u001b[34mblue\u001b[0m  \n",
      "\u001b[34mblue\u001b[0m   => \u001b[31mred\u001b[0m   , \u001b[32mgreen\u001b[0m  => \u001b[93morange\u001b[0m, \u001b[93morange\u001b[0m => \u001b[33myellow\u001b[0m, \u001b[31mred\u001b[0m    => \u001b[37mwhite\u001b[0m , \u001b[37mwhite\u001b[0m  => \u001b[32mgreen\u001b[0m , \u001b[33myellow\u001b[0m => \u001b[34mblue\u001b[0m  \n",
      "\u001b[34mblue\u001b[0m   => \u001b[37mwhite\u001b[0m , \u001b[32mgreen\u001b[0m  => \u001b[33myellow\u001b[0m, \u001b[93morange\u001b[0m => \u001b[34mblue\u001b[0m  , \u001b[31mred\u001b[0m    => \u001b[32mgreen\u001b[0m , \u001b[37mwhite\u001b[0m  => \u001b[31mred\u001b[0m   , \u001b[33myellow\u001b[0m => \u001b[93morange\u001b[0m\n",
      "\u001b[34mblue\u001b[0m   => \u001b[37mwhite\u001b[0m , \u001b[32mgreen\u001b[0m  => \u001b[33myellow\u001b[0m, \u001b[93morange\u001b[0m => \u001b[32mgreen\u001b[0m , \u001b[31mred\u001b[0m    => \u001b[34mblue\u001b[0m  , \u001b[37mwhite\u001b[0m  => \u001b[93morange\u001b[0m, \u001b[33myellow\u001b[0m => \u001b[31mred\u001b[0m   \n",
      "\u001b[34mblue\u001b[0m   => \u001b[33myellow\u001b[0m, \u001b[32mgreen\u001b[0m  => \u001b[37mwhite\u001b[0m , \u001b[93morange\u001b[0m => \u001b[34mblue\u001b[0m  , \u001b[31mred\u001b[0m    => \u001b[32mgreen\u001b[0m , \u001b[37mwhite\u001b[0m  => \u001b[93morange\u001b[0m, \u001b[33myellow\u001b[0m => \u001b[31mred\u001b[0m   \n",
      "\u001b[34mblue\u001b[0m   => \u001b[33myellow\u001b[0m, \u001b[32mgreen\u001b[0m  => \u001b[37mwhite\u001b[0m , \u001b[93morange\u001b[0m => \u001b[32mgreen\u001b[0m , \u001b[31mred\u001b[0m    => \u001b[34mblue\u001b[0m  , \u001b[37mwhite\u001b[0m  => \u001b[31mred\u001b[0m   , \u001b[33myellow\u001b[0m => \u001b[93morange\u001b[0m\n"
     ]
    }
   ],
   "source": [
    "print_cubes(filter(is_not_solved, filter(is_not_anti_solved, no_anti_checkers)))"
   ]
  },
  {
   "cell_type": "code",
   "execution_count": 28,
   "metadata": {},
   "outputs": [
    {
     "name": "stdout",
     "output_type": "stream",
     "text": [
      "ncubes: 9\n",
      "\u001b[34mblue\u001b[0m   => \u001b[34mblue\u001b[0m  , \u001b[32mgreen\u001b[0m  => \u001b[32mgreen\u001b[0m , \u001b[93morange\u001b[0m => \u001b[93morange\u001b[0m, \u001b[31mred\u001b[0m    => \u001b[31mred\u001b[0m   , \u001b[37mwhite\u001b[0m  => \u001b[37mwhite\u001b[0m , \u001b[33myellow\u001b[0m => \u001b[33myellow\u001b[0m\n",
      "\u001b[34mblue\u001b[0m   => \u001b[93morange\u001b[0m, \u001b[32mgreen\u001b[0m  => \u001b[31mred\u001b[0m   , \u001b[93morange\u001b[0m => \u001b[37mwhite\u001b[0m , \u001b[31mred\u001b[0m    => \u001b[33myellow\u001b[0m, \u001b[37mwhite\u001b[0m  => \u001b[32mgreen\u001b[0m , \u001b[33myellow\u001b[0m => \u001b[34mblue\u001b[0m  \n",
      "\u001b[34mblue\u001b[0m   => \u001b[93morange\u001b[0m, \u001b[32mgreen\u001b[0m  => \u001b[31mred\u001b[0m   , \u001b[93morange\u001b[0m => \u001b[33myellow\u001b[0m, \u001b[31mred\u001b[0m    => \u001b[37mwhite\u001b[0m , \u001b[37mwhite\u001b[0m  => \u001b[32mgreen\u001b[0m , \u001b[33myellow\u001b[0m => \u001b[34mblue\u001b[0m  \n",
      "\u001b[34mblue\u001b[0m   => \u001b[31mred\u001b[0m   , \u001b[32mgreen\u001b[0m  => \u001b[93morange\u001b[0m, \u001b[93morange\u001b[0m => \u001b[37mwhite\u001b[0m , \u001b[31mred\u001b[0m    => \u001b[33myellow\u001b[0m, \u001b[37mwhite\u001b[0m  => \u001b[32mgreen\u001b[0m , \u001b[33myellow\u001b[0m => \u001b[34mblue\u001b[0m  \n",
      "\u001b[34mblue\u001b[0m   => \u001b[31mred\u001b[0m   , \u001b[32mgreen\u001b[0m  => \u001b[93morange\u001b[0m, \u001b[93morange\u001b[0m => \u001b[33myellow\u001b[0m, \u001b[31mred\u001b[0m    => \u001b[37mwhite\u001b[0m , \u001b[37mwhite\u001b[0m  => \u001b[32mgreen\u001b[0m , \u001b[33myellow\u001b[0m => \u001b[34mblue\u001b[0m  \n",
      "\u001b[34mblue\u001b[0m   => \u001b[37mwhite\u001b[0m , \u001b[32mgreen\u001b[0m  => \u001b[33myellow\u001b[0m, \u001b[93morange\u001b[0m => \u001b[34mblue\u001b[0m  , \u001b[31mred\u001b[0m    => \u001b[32mgreen\u001b[0m , \u001b[37mwhite\u001b[0m  => \u001b[31mred\u001b[0m   , \u001b[33myellow\u001b[0m => \u001b[93morange\u001b[0m\n",
      "\u001b[34mblue\u001b[0m   => \u001b[37mwhite\u001b[0m , \u001b[32mgreen\u001b[0m  => \u001b[33myellow\u001b[0m, \u001b[93morange\u001b[0m => \u001b[32mgreen\u001b[0m , \u001b[31mred\u001b[0m    => \u001b[34mblue\u001b[0m  , \u001b[37mwhite\u001b[0m  => \u001b[93morange\u001b[0m, \u001b[33myellow\u001b[0m => \u001b[31mred\u001b[0m   \n",
      "\u001b[34mblue\u001b[0m   => \u001b[33myellow\u001b[0m, \u001b[32mgreen\u001b[0m  => \u001b[37mwhite\u001b[0m , \u001b[93morange\u001b[0m => \u001b[34mblue\u001b[0m  , \u001b[31mred\u001b[0m    => \u001b[32mgreen\u001b[0m , \u001b[37mwhite\u001b[0m  => \u001b[93morange\u001b[0m, \u001b[33myellow\u001b[0m => \u001b[31mred\u001b[0m   \n",
      "\u001b[34mblue\u001b[0m   => \u001b[33myellow\u001b[0m, \u001b[32mgreen\u001b[0m  => \u001b[37mwhite\u001b[0m , \u001b[93morange\u001b[0m => \u001b[32mgreen\u001b[0m , \u001b[31mred\u001b[0m    => \u001b[34mblue\u001b[0m  , \u001b[37mwhite\u001b[0m  => \u001b[31mred\u001b[0m   , \u001b[33myellow\u001b[0m => \u001b[93morange\u001b[0m\n"
     ]
    }
   ],
   "source": [
    "print_cubes(no_anti_checkers)"
   ]
  },
  {
   "cell_type": "code",
   "execution_count": 29,
   "metadata": {},
   "outputs": [
    {
     "name": "stdout",
     "output_type": "stream",
     "text": [
      "ncubes: 16\n",
      "\u001b[34mblue\u001b[0m   => \u001b[93morange\u001b[0m, \u001b[32mgreen\u001b[0m  => \u001b[31mred\u001b[0m   , \u001b[93morange\u001b[0m => \u001b[37mwhite\u001b[0m , \u001b[31mred\u001b[0m    => \u001b[33myellow\u001b[0m, \u001b[37mwhite\u001b[0m  => \u001b[34mblue\u001b[0m  , \u001b[33myellow\u001b[0m => \u001b[32mgreen\u001b[0m \n",
      "\u001b[34mblue\u001b[0m   => \u001b[93morange\u001b[0m, \u001b[32mgreen\u001b[0m  => \u001b[31mred\u001b[0m   , \u001b[93morange\u001b[0m => \u001b[37mwhite\u001b[0m , \u001b[31mred\u001b[0m    => \u001b[33myellow\u001b[0m, \u001b[37mwhite\u001b[0m  => \u001b[32mgreen\u001b[0m , \u001b[33myellow\u001b[0m => \u001b[34mblue\u001b[0m  \n",
      "\u001b[34mblue\u001b[0m   => \u001b[93morange\u001b[0m, \u001b[32mgreen\u001b[0m  => \u001b[31mred\u001b[0m   , \u001b[93morange\u001b[0m => \u001b[33myellow\u001b[0m, \u001b[31mred\u001b[0m    => \u001b[37mwhite\u001b[0m , \u001b[37mwhite\u001b[0m  => \u001b[34mblue\u001b[0m  , \u001b[33myellow\u001b[0m => \u001b[32mgreen\u001b[0m \n",
      "\u001b[34mblue\u001b[0m   => \u001b[93morange\u001b[0m, \u001b[32mgreen\u001b[0m  => \u001b[31mred\u001b[0m   , \u001b[93morange\u001b[0m => \u001b[33myellow\u001b[0m, \u001b[31mred\u001b[0m    => \u001b[37mwhite\u001b[0m , \u001b[37mwhite\u001b[0m  => \u001b[32mgreen\u001b[0m , \u001b[33myellow\u001b[0m => \u001b[34mblue\u001b[0m  \n",
      "\u001b[34mblue\u001b[0m   => \u001b[31mred\u001b[0m   , \u001b[32mgreen\u001b[0m  => \u001b[93morange\u001b[0m, \u001b[93morange\u001b[0m => \u001b[37mwhite\u001b[0m , \u001b[31mred\u001b[0m    => \u001b[33myellow\u001b[0m, \u001b[37mwhite\u001b[0m  => \u001b[34mblue\u001b[0m  , \u001b[33myellow\u001b[0m => \u001b[32mgreen\u001b[0m \n",
      "\u001b[34mblue\u001b[0m   => \u001b[31mred\u001b[0m   , \u001b[32mgreen\u001b[0m  => \u001b[93morange\u001b[0m, \u001b[93morange\u001b[0m => \u001b[37mwhite\u001b[0m , \u001b[31mred\u001b[0m    => \u001b[33myellow\u001b[0m, \u001b[37mwhite\u001b[0m  => \u001b[32mgreen\u001b[0m , \u001b[33myellow\u001b[0m => \u001b[34mblue\u001b[0m  \n",
      "\u001b[34mblue\u001b[0m   => \u001b[31mred\u001b[0m   , \u001b[32mgreen\u001b[0m  => \u001b[93morange\u001b[0m, \u001b[93morange\u001b[0m => \u001b[33myellow\u001b[0m, \u001b[31mred\u001b[0m    => \u001b[37mwhite\u001b[0m , \u001b[37mwhite\u001b[0m  => \u001b[34mblue\u001b[0m  , \u001b[33myellow\u001b[0m => \u001b[32mgreen\u001b[0m \n",
      "\u001b[34mblue\u001b[0m   => \u001b[31mred\u001b[0m   , \u001b[32mgreen\u001b[0m  => \u001b[93morange\u001b[0m, \u001b[93morange\u001b[0m => \u001b[33myellow\u001b[0m, \u001b[31mred\u001b[0m    => \u001b[37mwhite\u001b[0m , \u001b[37mwhite\u001b[0m  => \u001b[32mgreen\u001b[0m , \u001b[33myellow\u001b[0m => \u001b[34mblue\u001b[0m  \n",
      "\u001b[34mblue\u001b[0m   => \u001b[37mwhite\u001b[0m , \u001b[32mgreen\u001b[0m  => \u001b[33myellow\u001b[0m, \u001b[93morange\u001b[0m => \u001b[34mblue\u001b[0m  , \u001b[31mred\u001b[0m    => \u001b[32mgreen\u001b[0m , \u001b[37mwhite\u001b[0m  => \u001b[93morange\u001b[0m, \u001b[33myellow\u001b[0m => \u001b[31mred\u001b[0m   \n",
      "\u001b[34mblue\u001b[0m   => \u001b[37mwhite\u001b[0m , \u001b[32mgreen\u001b[0m  => \u001b[33myellow\u001b[0m, \u001b[93morange\u001b[0m => \u001b[34mblue\u001b[0m  , \u001b[31mred\u001b[0m    => \u001b[32mgreen\u001b[0m , \u001b[37mwhite\u001b[0m  => \u001b[31mred\u001b[0m   , \u001b[33myellow\u001b[0m => \u001b[93morange\u001b[0m\n",
      "\u001b[34mblue\u001b[0m   => \u001b[37mwhite\u001b[0m , \u001b[32mgreen\u001b[0m  => \u001b[33myellow\u001b[0m, \u001b[93morange\u001b[0m => \u001b[32mgreen\u001b[0m , \u001b[31mred\u001b[0m    => \u001b[34mblue\u001b[0m  , \u001b[37mwhite\u001b[0m  => \u001b[93morange\u001b[0m, \u001b[33myellow\u001b[0m => \u001b[31mred\u001b[0m   \n",
      "\u001b[34mblue\u001b[0m   => \u001b[37mwhite\u001b[0m , \u001b[32mgreen\u001b[0m  => \u001b[33myellow\u001b[0m, \u001b[93morange\u001b[0m => \u001b[32mgreen\u001b[0m , \u001b[31mred\u001b[0m    => \u001b[34mblue\u001b[0m  , \u001b[37mwhite\u001b[0m  => \u001b[31mred\u001b[0m   , \u001b[33myellow\u001b[0m => \u001b[93morange\u001b[0m\n",
      "\u001b[34mblue\u001b[0m   => \u001b[33myellow\u001b[0m, \u001b[32mgreen\u001b[0m  => \u001b[37mwhite\u001b[0m , \u001b[93morange\u001b[0m => \u001b[34mblue\u001b[0m  , \u001b[31mred\u001b[0m    => \u001b[32mgreen\u001b[0m , \u001b[37mwhite\u001b[0m  => \u001b[93morange\u001b[0m, \u001b[33myellow\u001b[0m => \u001b[31mred\u001b[0m   \n",
      "\u001b[34mblue\u001b[0m   => \u001b[33myellow\u001b[0m, \u001b[32mgreen\u001b[0m  => \u001b[37mwhite\u001b[0m , \u001b[93morange\u001b[0m => \u001b[34mblue\u001b[0m  , \u001b[31mred\u001b[0m    => \u001b[32mgreen\u001b[0m , \u001b[37mwhite\u001b[0m  => \u001b[31mred\u001b[0m   , \u001b[33myellow\u001b[0m => \u001b[93morange\u001b[0m\n",
      "\u001b[34mblue\u001b[0m   => \u001b[33myellow\u001b[0m, \u001b[32mgreen\u001b[0m  => \u001b[37mwhite\u001b[0m , \u001b[93morange\u001b[0m => \u001b[32mgreen\u001b[0m , \u001b[31mred\u001b[0m    => \u001b[34mblue\u001b[0m  , \u001b[37mwhite\u001b[0m  => \u001b[93morange\u001b[0m, \u001b[33myellow\u001b[0m => \u001b[31mred\u001b[0m   \n",
      "\u001b[34mblue\u001b[0m   => \u001b[33myellow\u001b[0m, \u001b[32mgreen\u001b[0m  => \u001b[37mwhite\u001b[0m , \u001b[93morange\u001b[0m => \u001b[32mgreen\u001b[0m , \u001b[31mred\u001b[0m    => \u001b[34mblue\u001b[0m  , \u001b[37mwhite\u001b[0m  => \u001b[31mred\u001b[0m   , \u001b[33myellow\u001b[0m => \u001b[93morange\u001b[0m\n"
     ]
    }
   ],
   "source": [
    "print_cubes(filter(is_not_solved, filter(is_not_anti_solved, checkers)))"
   ]
  },
  {
   "cell_type": "code",
   "execution_count": 30,
   "metadata": {},
   "outputs": [
    {
     "name": "stdout",
     "output_type": "stream",
     "text": [
      "ncubes: 18\n",
      "\u001b[34mblue\u001b[0m   => \u001b[34mblue\u001b[0m  , \u001b[32mgreen\u001b[0m  => \u001b[32mgreen\u001b[0m , \u001b[93morange\u001b[0m => \u001b[93morange\u001b[0m, \u001b[31mred\u001b[0m    => \u001b[31mred\u001b[0m   , \u001b[37mwhite\u001b[0m  => \u001b[37mwhite\u001b[0m , \u001b[33myellow\u001b[0m => \u001b[33myellow\u001b[0m\n",
      "\u001b[34mblue\u001b[0m   => \u001b[32mgreen\u001b[0m , \u001b[32mgreen\u001b[0m  => \u001b[34mblue\u001b[0m  , \u001b[93morange\u001b[0m => \u001b[31mred\u001b[0m   , \u001b[31mred\u001b[0m    => \u001b[93morange\u001b[0m, \u001b[37mwhite\u001b[0m  => \u001b[33myellow\u001b[0m, \u001b[33myellow\u001b[0m => \u001b[37mwhite\u001b[0m \n",
      "\u001b[34mblue\u001b[0m   => \u001b[93morange\u001b[0m, \u001b[32mgreen\u001b[0m  => \u001b[31mred\u001b[0m   , \u001b[93morange\u001b[0m => \u001b[37mwhite\u001b[0m , \u001b[31mred\u001b[0m    => \u001b[33myellow\u001b[0m, \u001b[37mwhite\u001b[0m  => \u001b[34mblue\u001b[0m  , \u001b[33myellow\u001b[0m => \u001b[32mgreen\u001b[0m \n",
      "\u001b[34mblue\u001b[0m   => \u001b[93morange\u001b[0m, \u001b[32mgreen\u001b[0m  => \u001b[31mred\u001b[0m   , \u001b[93morange\u001b[0m => \u001b[37mwhite\u001b[0m , \u001b[31mred\u001b[0m    => \u001b[33myellow\u001b[0m, \u001b[37mwhite\u001b[0m  => \u001b[32mgreen\u001b[0m , \u001b[33myellow\u001b[0m => \u001b[34mblue\u001b[0m  \n",
      "\u001b[34mblue\u001b[0m   => \u001b[93morange\u001b[0m, \u001b[32mgreen\u001b[0m  => \u001b[31mred\u001b[0m   , \u001b[93morange\u001b[0m => \u001b[33myellow\u001b[0m, \u001b[31mred\u001b[0m    => \u001b[37mwhite\u001b[0m , \u001b[37mwhite\u001b[0m  => \u001b[34mblue\u001b[0m  , \u001b[33myellow\u001b[0m => \u001b[32mgreen\u001b[0m \n",
      "\u001b[34mblue\u001b[0m   => \u001b[93morange\u001b[0m, \u001b[32mgreen\u001b[0m  => \u001b[31mred\u001b[0m   , \u001b[93morange\u001b[0m => \u001b[33myellow\u001b[0m, \u001b[31mred\u001b[0m    => \u001b[37mwhite\u001b[0m , \u001b[37mwhite\u001b[0m  => \u001b[32mgreen\u001b[0m , \u001b[33myellow\u001b[0m => \u001b[34mblue\u001b[0m  \n",
      "\u001b[34mblue\u001b[0m   => \u001b[31mred\u001b[0m   , \u001b[32mgreen\u001b[0m  => \u001b[93morange\u001b[0m, \u001b[93morange\u001b[0m => \u001b[37mwhite\u001b[0m , \u001b[31mred\u001b[0m    => \u001b[33myellow\u001b[0m, \u001b[37mwhite\u001b[0m  => \u001b[34mblue\u001b[0m  , \u001b[33myellow\u001b[0m => \u001b[32mgreen\u001b[0m \n",
      "\u001b[34mblue\u001b[0m   => \u001b[31mred\u001b[0m   , \u001b[32mgreen\u001b[0m  => \u001b[93morange\u001b[0m, \u001b[93morange\u001b[0m => \u001b[37mwhite\u001b[0m , \u001b[31mred\u001b[0m    => \u001b[33myellow\u001b[0m, \u001b[37mwhite\u001b[0m  => \u001b[32mgreen\u001b[0m , \u001b[33myellow\u001b[0m => \u001b[34mblue\u001b[0m  \n",
      "\u001b[34mblue\u001b[0m   => \u001b[31mred\u001b[0m   , \u001b[32mgreen\u001b[0m  => \u001b[93morange\u001b[0m, \u001b[93morange\u001b[0m => \u001b[33myellow\u001b[0m, \u001b[31mred\u001b[0m    => \u001b[37mwhite\u001b[0m , \u001b[37mwhite\u001b[0m  => \u001b[34mblue\u001b[0m  , \u001b[33myellow\u001b[0m => \u001b[32mgreen\u001b[0m \n",
      "\u001b[34mblue\u001b[0m   => \u001b[31mred\u001b[0m   , \u001b[32mgreen\u001b[0m  => \u001b[93morange\u001b[0m, \u001b[93morange\u001b[0m => \u001b[33myellow\u001b[0m, \u001b[31mred\u001b[0m    => \u001b[37mwhite\u001b[0m , \u001b[37mwhite\u001b[0m  => \u001b[32mgreen\u001b[0m , \u001b[33myellow\u001b[0m => \u001b[34mblue\u001b[0m  \n",
      "\u001b[34mblue\u001b[0m   => \u001b[37mwhite\u001b[0m , \u001b[32mgreen\u001b[0m  => \u001b[33myellow\u001b[0m, \u001b[93morange\u001b[0m => \u001b[34mblue\u001b[0m  , \u001b[31mred\u001b[0m    => \u001b[32mgreen\u001b[0m , \u001b[37mwhite\u001b[0m  => \u001b[93morange\u001b[0m, \u001b[33myellow\u001b[0m => \u001b[31mred\u001b[0m   \n",
      "\u001b[34mblue\u001b[0m   => \u001b[37mwhite\u001b[0m , \u001b[32mgreen\u001b[0m  => \u001b[33myellow\u001b[0m, \u001b[93morange\u001b[0m => \u001b[34mblue\u001b[0m  , \u001b[31mred\u001b[0m    => \u001b[32mgreen\u001b[0m , \u001b[37mwhite\u001b[0m  => \u001b[31mred\u001b[0m   , \u001b[33myellow\u001b[0m => \u001b[93morange\u001b[0m\n",
      "\u001b[34mblue\u001b[0m   => \u001b[37mwhite\u001b[0m , \u001b[32mgreen\u001b[0m  => \u001b[33myellow\u001b[0m, \u001b[93morange\u001b[0m => \u001b[32mgreen\u001b[0m , \u001b[31mred\u001b[0m    => \u001b[34mblue\u001b[0m  , \u001b[37mwhite\u001b[0m  => \u001b[93morange\u001b[0m, \u001b[33myellow\u001b[0m => \u001b[31mred\u001b[0m   \n",
      "\u001b[34mblue\u001b[0m   => \u001b[37mwhite\u001b[0m , \u001b[32mgreen\u001b[0m  => \u001b[33myellow\u001b[0m, \u001b[93morange\u001b[0m => \u001b[32mgreen\u001b[0m , \u001b[31mred\u001b[0m    => \u001b[34mblue\u001b[0m  , \u001b[37mwhite\u001b[0m  => \u001b[31mred\u001b[0m   , \u001b[33myellow\u001b[0m => \u001b[93morange\u001b[0m\n",
      "\u001b[34mblue\u001b[0m   => \u001b[33myellow\u001b[0m, \u001b[32mgreen\u001b[0m  => \u001b[37mwhite\u001b[0m , \u001b[93morange\u001b[0m => \u001b[34mblue\u001b[0m  , \u001b[31mred\u001b[0m    => \u001b[32mgreen\u001b[0m , \u001b[37mwhite\u001b[0m  => \u001b[93morange\u001b[0m, \u001b[33myellow\u001b[0m => \u001b[31mred\u001b[0m   \n",
      "\u001b[34mblue\u001b[0m   => \u001b[33myellow\u001b[0m, \u001b[32mgreen\u001b[0m  => \u001b[37mwhite\u001b[0m , \u001b[93morange\u001b[0m => \u001b[34mblue\u001b[0m  , \u001b[31mred\u001b[0m    => \u001b[32mgreen\u001b[0m , \u001b[37mwhite\u001b[0m  => \u001b[31mred\u001b[0m   , \u001b[33myellow\u001b[0m => \u001b[93morange\u001b[0m\n",
      "\u001b[34mblue\u001b[0m   => \u001b[33myellow\u001b[0m, \u001b[32mgreen\u001b[0m  => \u001b[37mwhite\u001b[0m , \u001b[93morange\u001b[0m => \u001b[32mgreen\u001b[0m , \u001b[31mred\u001b[0m    => \u001b[34mblue\u001b[0m  , \u001b[37mwhite\u001b[0m  => \u001b[93morange\u001b[0m, \u001b[33myellow\u001b[0m => \u001b[31mred\u001b[0m   \n",
      "\u001b[34mblue\u001b[0m   => \u001b[33myellow\u001b[0m, \u001b[32mgreen\u001b[0m  => \u001b[37mwhite\u001b[0m , \u001b[93morange\u001b[0m => \u001b[32mgreen\u001b[0m , \u001b[31mred\u001b[0m    => \u001b[34mblue\u001b[0m  , \u001b[37mwhite\u001b[0m  => \u001b[31mred\u001b[0m   , \u001b[33myellow\u001b[0m => \u001b[93morange\u001b[0m\n"
     ]
    }
   ],
   "source": [
    "print_cubes(checkers)"
   ]
  },
  {
   "cell_type": "code",
   "execution_count": 31,
   "metadata": {},
   "outputs": [
    {
     "name": "stdout",
     "output_type": "stream",
     "text": [
      "ncubes: 2\n",
      "\u001b[34mblue\u001b[0m   => \u001b[31mred\u001b[0m   , \u001b[32mgreen\u001b[0m  => \u001b[93morange\u001b[0m, \u001b[93morange\u001b[0m => \u001b[37mwhite\u001b[0m , \u001b[31mred\u001b[0m    => \u001b[33myellow\u001b[0m, \u001b[37mwhite\u001b[0m  => \u001b[32mgreen\u001b[0m , \u001b[33myellow\u001b[0m => \u001b[34mblue\u001b[0m  \n",
      "\u001b[34mblue\u001b[0m   => \u001b[93morange\u001b[0m, \u001b[32mgreen\u001b[0m  => \u001b[31mred\u001b[0m   , \u001b[93morange\u001b[0m => \u001b[33myellow\u001b[0m, \u001b[31mred\u001b[0m    => \u001b[37mwhite\u001b[0m , \u001b[37mwhite\u001b[0m  => \u001b[34mblue\u001b[0m  , \u001b[33myellow\u001b[0m => \u001b[32mgreen\u001b[0m \n",
      "ncubes: 2\n",
      "\u001b[34mblue\u001b[0m   => \u001b[37mwhite\u001b[0m , \u001b[32mgreen\u001b[0m  => \u001b[33myellow\u001b[0m, \u001b[93morange\u001b[0m => \u001b[34mblue\u001b[0m  , \u001b[31mred\u001b[0m    => \u001b[32mgreen\u001b[0m , \u001b[37mwhite\u001b[0m  => \u001b[31mred\u001b[0m   , \u001b[33myellow\u001b[0m => \u001b[93morange\u001b[0m\n",
      "\u001b[34mblue\u001b[0m   => \u001b[33myellow\u001b[0m, \u001b[32mgreen\u001b[0m  => \u001b[37mwhite\u001b[0m , \u001b[93morange\u001b[0m => \u001b[32mgreen\u001b[0m , \u001b[31mred\u001b[0m    => \u001b[34mblue\u001b[0m  , \u001b[37mwhite\u001b[0m  => \u001b[93morange\u001b[0m, \u001b[33myellow\u001b[0m => \u001b[31mred\u001b[0m   \n",
      "ncubes: 2\n",
      "\u001b[34mblue\u001b[0m   => \u001b[33myellow\u001b[0m, \u001b[32mgreen\u001b[0m  => \u001b[37mwhite\u001b[0m , \u001b[93morange\u001b[0m => \u001b[34mblue\u001b[0m  , \u001b[31mred\u001b[0m    => \u001b[32mgreen\u001b[0m , \u001b[37mwhite\u001b[0m  => \u001b[93morange\u001b[0m, \u001b[33myellow\u001b[0m => \u001b[31mred\u001b[0m   \n",
      "\u001b[34mblue\u001b[0m   => \u001b[37mwhite\u001b[0m , \u001b[32mgreen\u001b[0m  => \u001b[33myellow\u001b[0m, \u001b[93morange\u001b[0m => \u001b[32mgreen\u001b[0m , \u001b[31mred\u001b[0m    => \u001b[34mblue\u001b[0m  , \u001b[37mwhite\u001b[0m  => \u001b[31mred\u001b[0m   , \u001b[33myellow\u001b[0m => \u001b[93morange\u001b[0m\n",
      "ncubes: 2\n",
      "\u001b[34mblue\u001b[0m   => \u001b[37mwhite\u001b[0m , \u001b[32mgreen\u001b[0m  => \u001b[33myellow\u001b[0m, \u001b[93morange\u001b[0m => \u001b[32mgreen\u001b[0m , \u001b[31mred\u001b[0m    => \u001b[34mblue\u001b[0m  , \u001b[37mwhite\u001b[0m  => \u001b[93morange\u001b[0m, \u001b[33myellow\u001b[0m => \u001b[31mred\u001b[0m   \n",
      "\u001b[34mblue\u001b[0m   => \u001b[33myellow\u001b[0m, \u001b[32mgreen\u001b[0m  => \u001b[37mwhite\u001b[0m , \u001b[93morange\u001b[0m => \u001b[34mblue\u001b[0m  , \u001b[31mred\u001b[0m    => \u001b[32mgreen\u001b[0m , \u001b[37mwhite\u001b[0m  => \u001b[31mred\u001b[0m   , \u001b[33myellow\u001b[0m => \u001b[93morange\u001b[0m\n",
      "ncubes: 2\n",
      "\u001b[34mblue\u001b[0m   => \u001b[33myellow\u001b[0m, \u001b[32mgreen\u001b[0m  => \u001b[37mwhite\u001b[0m , \u001b[93morange\u001b[0m => \u001b[32mgreen\u001b[0m , \u001b[31mred\u001b[0m    => \u001b[34mblue\u001b[0m  , \u001b[37mwhite\u001b[0m  => \u001b[31mred\u001b[0m   , \u001b[33myellow\u001b[0m => \u001b[93morange\u001b[0m\n",
      "\u001b[34mblue\u001b[0m   => \u001b[37mwhite\u001b[0m , \u001b[32mgreen\u001b[0m  => \u001b[33myellow\u001b[0m, \u001b[93morange\u001b[0m => \u001b[34mblue\u001b[0m  , \u001b[31mred\u001b[0m    => \u001b[32mgreen\u001b[0m , \u001b[37mwhite\u001b[0m  => \u001b[93morange\u001b[0m, \u001b[33myellow\u001b[0m => \u001b[31mred\u001b[0m   \n",
      "ncubes: 2\n",
      "\u001b[34mblue\u001b[0m   => \u001b[93morange\u001b[0m, \u001b[32mgreen\u001b[0m  => \u001b[31mred\u001b[0m   , \u001b[93morange\u001b[0m => \u001b[33myellow\u001b[0m, \u001b[31mred\u001b[0m    => \u001b[37mwhite\u001b[0m , \u001b[37mwhite\u001b[0m  => \u001b[32mgreen\u001b[0m , \u001b[33myellow\u001b[0m => \u001b[34mblue\u001b[0m  \n",
      "\u001b[34mblue\u001b[0m   => \u001b[31mred\u001b[0m   , \u001b[32mgreen\u001b[0m  => \u001b[93morange\u001b[0m, \u001b[93morange\u001b[0m => \u001b[37mwhite\u001b[0m , \u001b[31mred\u001b[0m    => \u001b[33myellow\u001b[0m, \u001b[37mwhite\u001b[0m  => \u001b[34mblue\u001b[0m  , \u001b[33myellow\u001b[0m => \u001b[32mgreen\u001b[0m \n",
      "ncubes: 2\n",
      "\u001b[34mblue\u001b[0m   => \u001b[31mred\u001b[0m   , \u001b[32mgreen\u001b[0m  => \u001b[93morange\u001b[0m, \u001b[93morange\u001b[0m => \u001b[33myellow\u001b[0m, \u001b[31mred\u001b[0m    => \u001b[37mwhite\u001b[0m , \u001b[37mwhite\u001b[0m  => \u001b[32mgreen\u001b[0m , \u001b[33myellow\u001b[0m => \u001b[34mblue\u001b[0m  \n",
      "\u001b[34mblue\u001b[0m   => \u001b[93morange\u001b[0m, \u001b[32mgreen\u001b[0m  => \u001b[31mred\u001b[0m   , \u001b[93morange\u001b[0m => \u001b[37mwhite\u001b[0m , \u001b[31mred\u001b[0m    => \u001b[33myellow\u001b[0m, \u001b[37mwhite\u001b[0m  => \u001b[34mblue\u001b[0m  , \u001b[33myellow\u001b[0m => \u001b[32mgreen\u001b[0m \n",
      "ncubes: 2\n",
      "\u001b[34mblue\u001b[0m   => \u001b[34mblue\u001b[0m  , \u001b[32mgreen\u001b[0m  => \u001b[32mgreen\u001b[0m , \u001b[93morange\u001b[0m => \u001b[93morange\u001b[0m, \u001b[31mred\u001b[0m    => \u001b[31mred\u001b[0m   , \u001b[37mwhite\u001b[0m  => \u001b[37mwhite\u001b[0m , \u001b[33myellow\u001b[0m => \u001b[33myellow\u001b[0m\n",
      "\u001b[34mblue\u001b[0m   => \u001b[32mgreen\u001b[0m , \u001b[32mgreen\u001b[0m  => \u001b[34mblue\u001b[0m  , \u001b[93morange\u001b[0m => \u001b[31mred\u001b[0m   , \u001b[31mred\u001b[0m    => \u001b[93morange\u001b[0m, \u001b[37mwhite\u001b[0m  => \u001b[33myellow\u001b[0m, \u001b[33myellow\u001b[0m => \u001b[37mwhite\u001b[0m \n",
      "ncubes: 2\n",
      "\u001b[34mblue\u001b[0m   => \u001b[93morange\u001b[0m, \u001b[32mgreen\u001b[0m  => \u001b[31mred\u001b[0m   , \u001b[93morange\u001b[0m => \u001b[37mwhite\u001b[0m , \u001b[31mred\u001b[0m    => \u001b[33myellow\u001b[0m, \u001b[37mwhite\u001b[0m  => \u001b[32mgreen\u001b[0m , \u001b[33myellow\u001b[0m => \u001b[34mblue\u001b[0m  \n",
      "\u001b[34mblue\u001b[0m   => \u001b[31mred\u001b[0m   , \u001b[32mgreen\u001b[0m  => \u001b[93morange\u001b[0m, \u001b[93morange\u001b[0m => \u001b[33myellow\u001b[0m, \u001b[31mred\u001b[0m    => \u001b[37mwhite\u001b[0m , \u001b[37mwhite\u001b[0m  => \u001b[34mblue\u001b[0m  , \u001b[33myellow\u001b[0m => \u001b[32mgreen\u001b[0m \n"
     ]
    }
   ],
   "source": [
    "for cube in no_anti_checkers:\n",
    "    cubes = (cube, make_anti(cube))\n",
    "    #cubes = filter(is_not_solved,      cubes)\n",
    "    #cubes = filter(is_not_anti_solved, cubes)\n",
    "    print_cubes(cubes)"
   ]
  },
  {
   "cell_type": "code",
   "execution_count": 32,
   "metadata": {},
   "outputs": [
    {
     "name": "stdout",
     "output_type": "stream",
     "text": [
      "{frozenset({('\u001b[33myellow\u001b[0m', '\u001b[31mred\u001b[0m   '), ('\u001b[93morange\u001b[0m', '\u001b[34mblue\u001b[0m  '), ('\u001b[37mwhite\u001b[0m ', '\u001b[93morange\u001b[0m'), ('\u001b[31mred\u001b[0m   ', '\u001b[32mgreen\u001b[0m '), ('\u001b[34mblue\u001b[0m  ', '\u001b[33myellow\u001b[0m'), ('\u001b[32mgreen\u001b[0m ', '\u001b[37mwhite\u001b[0m ')}),\n",
      " frozenset({('\u001b[34mblue\u001b[0m  ', '\u001b[93morange\u001b[0m'), ('\u001b[31mred\u001b[0m   ', '\u001b[37mwhite\u001b[0m '), ('\u001b[37mwhite\u001b[0m ', '\u001b[32mgreen\u001b[0m '), ('\u001b[32mgreen\u001b[0m ', '\u001b[31mred\u001b[0m   '), ('\u001b[93morange\u001b[0m', '\u001b[33myellow\u001b[0m'), ('\u001b[33myellow\u001b[0m', '\u001b[34mblue\u001b[0m  ')}),\n",
      " frozenset({('\u001b[32mgreen\u001b[0m ', '\u001b[32mgreen\u001b[0m '), ('\u001b[93morange\u001b[0m', '\u001b[93morange\u001b[0m'), ('\u001b[34mblue\u001b[0m  ', '\u001b[34mblue\u001b[0m  '), ('\u001b[31mred\u001b[0m   ', '\u001b[31mred\u001b[0m   '), ('\u001b[37mwhite\u001b[0m ', '\u001b[37mwhite\u001b[0m '), ('\u001b[33myellow\u001b[0m', '\u001b[33myellow\u001b[0m')}),\n",
      " frozenset({('\u001b[32mgreen\u001b[0m ', '\u001b[93morange\u001b[0m'), ('\u001b[31mred\u001b[0m   ', '\u001b[33myellow\u001b[0m'), ('\u001b[37mwhite\u001b[0m ', '\u001b[32mgreen\u001b[0m '), ('\u001b[93morange\u001b[0m', '\u001b[37mwhite\u001b[0m '), ('\u001b[34mblue\u001b[0m  ', '\u001b[31mred\u001b[0m   '), ('\u001b[33myellow\u001b[0m', '\u001b[34mblue\u001b[0m  ')}),\n",
      " frozenset({('\u001b[33myellow\u001b[0m', '\u001b[31mred\u001b[0m   '), ('\u001b[93morange\u001b[0m', '\u001b[32mgreen\u001b[0m '), ('\u001b[37mwhite\u001b[0m ', '\u001b[93morange\u001b[0m'), ('\u001b[34mblue\u001b[0m  ', '\u001b[37mwhite\u001b[0m '), ('\u001b[32mgreen\u001b[0m ', '\u001b[33myellow\u001b[0m'), ('\u001b[31mred\u001b[0m   ', '\u001b[34mblue\u001b[0m  ')}),\n",
      " frozenset({('\u001b[32mgreen\u001b[0m ', '\u001b[37mwhite\u001b[0m '), ('\u001b[93morange\u001b[0m', '\u001b[32mgreen\u001b[0m '), ('\u001b[37mwhite\u001b[0m ', '\u001b[31mred\u001b[0m   '), ('\u001b[34mblue\u001b[0m  ', '\u001b[33myellow\u001b[0m'), ('\u001b[31mred\u001b[0m   ', '\u001b[34mblue\u001b[0m  '), ('\u001b[33myellow\u001b[0m', '\u001b[93morange\u001b[0m')}),\n",
      " frozenset({('\u001b[34mblue\u001b[0m  ', '\u001b[93morange\u001b[0m'), ('\u001b[31mred\u001b[0m   ', '\u001b[33myellow\u001b[0m'), ('\u001b[37mwhite\u001b[0m ', '\u001b[32mgreen\u001b[0m '), ('\u001b[93morange\u001b[0m', '\u001b[37mwhite\u001b[0m '), ('\u001b[32mgreen\u001b[0m ', '\u001b[31mred\u001b[0m   '), ('\u001b[33myellow\u001b[0m', '\u001b[34mblue\u001b[0m  ')}),\n",
      " frozenset({('\u001b[32mgreen\u001b[0m ', '\u001b[93morange\u001b[0m'), ('\u001b[31mred\u001b[0m   ', '\u001b[37mwhite\u001b[0m '), ('\u001b[37mwhite\u001b[0m ', '\u001b[32mgreen\u001b[0m '), ('\u001b[93morange\u001b[0m', '\u001b[33myellow\u001b[0m'), ('\u001b[34mblue\u001b[0m  ', '\u001b[31mred\u001b[0m   '), ('\u001b[33myellow\u001b[0m', '\u001b[34mblue\u001b[0m  ')}),\n",
      " frozenset({('\u001b[93morange\u001b[0m', '\u001b[34mblue\u001b[0m  '), ('\u001b[37mwhite\u001b[0m ', '\u001b[31mred\u001b[0m   '), ('\u001b[34mblue\u001b[0m  ', '\u001b[37mwhite\u001b[0m '), ('\u001b[31mred\u001b[0m   ', '\u001b[32mgreen\u001b[0m '), ('\u001b[32mgreen\u001b[0m ', '\u001b[33myellow\u001b[0m'), ('\u001b[33myellow\u001b[0m', '\u001b[93morange\u001b[0m')})}\n",
      "((('\u001b[34mblue\u001b[0m  ', '\u001b[34mblue\u001b[0m  '), ('\u001b[32mgreen\u001b[0m ', '\u001b[32mgreen\u001b[0m '), ('\u001b[93morange\u001b[0m', '\u001b[93morange\u001b[0m'), ('\u001b[31mred\u001b[0m   ', '\u001b[31mred\u001b[0m   '), ('\u001b[37mwhite\u001b[0m ', '\u001b[37mwhite\u001b[0m '), ('\u001b[33myellow\u001b[0m', '\u001b[33myellow\u001b[0m')),\n",
      " (('\u001b[34mblue\u001b[0m  ', '\u001b[93morange\u001b[0m'), ('\u001b[32mgreen\u001b[0m ', '\u001b[31mred\u001b[0m   '), ('\u001b[93morange\u001b[0m', '\u001b[37mwhite\u001b[0m '), ('\u001b[31mred\u001b[0m   ', '\u001b[33myellow\u001b[0m'), ('\u001b[37mwhite\u001b[0m ', '\u001b[32mgreen\u001b[0m '), ('\u001b[33myellow\u001b[0m', '\u001b[34mblue\u001b[0m  ')),\n",
      " (('\u001b[34mblue\u001b[0m  ', '\u001b[93morange\u001b[0m'), ('\u001b[32mgreen\u001b[0m ', '\u001b[31mred\u001b[0m   '), ('\u001b[93morange\u001b[0m', '\u001b[33myellow\u001b[0m'), ('\u001b[31mred\u001b[0m   ', '\u001b[37mwhite\u001b[0m '), ('\u001b[37mwhite\u001b[0m ', '\u001b[32mgreen\u001b[0m '), ('\u001b[33myellow\u001b[0m', '\u001b[34mblue\u001b[0m  ')),\n",
      " (('\u001b[34mblue\u001b[0m  ', '\u001b[31mred\u001b[0m   '), ('\u001b[32mgreen\u001b[0m ', '\u001b[93morange\u001b[0m'), ('\u001b[93morange\u001b[0m', '\u001b[37mwhite\u001b[0m '), ('\u001b[31mred\u001b[0m   ', '\u001b[33myellow\u001b[0m'), ('\u001b[37mwhite\u001b[0m ', '\u001b[32mgreen\u001b[0m '), ('\u001b[33myellow\u001b[0m', '\u001b[34mblue\u001b[0m  ')),\n",
      " (('\u001b[34mblue\u001b[0m  ', '\u001b[31mred\u001b[0m   '), ('\u001b[32mgreen\u001b[0m ', '\u001b[93morange\u001b[0m'), ('\u001b[93morange\u001b[0m', '\u001b[33myellow\u001b[0m'), ('\u001b[31mred\u001b[0m   ', '\u001b[37mwhite\u001b[0m '), ('\u001b[37mwhite\u001b[0m ', '\u001b[32mgreen\u001b[0m '), ('\u001b[33myellow\u001b[0m', '\u001b[34mblue\u001b[0m  ')),\n",
      " (('\u001b[34mblue\u001b[0m  ', '\u001b[37mwhite\u001b[0m '), ('\u001b[32mgreen\u001b[0m ', '\u001b[33myellow\u001b[0m'), ('\u001b[93morange\u001b[0m', '\u001b[34mblue\u001b[0m  '), ('\u001b[31mred\u001b[0m   ', '\u001b[32mgreen\u001b[0m '), ('\u001b[37mwhite\u001b[0m ', '\u001b[31mred\u001b[0m   '), ('\u001b[33myellow\u001b[0m', '\u001b[93morange\u001b[0m')),\n",
      " (('\u001b[34mblue\u001b[0m  ', '\u001b[37mwhite\u001b[0m '), ('\u001b[32mgreen\u001b[0m ', '\u001b[33myellow\u001b[0m'), ('\u001b[93morange\u001b[0m', '\u001b[32mgreen\u001b[0m '), ('\u001b[31mred\u001b[0m   ', '\u001b[34mblue\u001b[0m  '), ('\u001b[37mwhite\u001b[0m ', '\u001b[93morange\u001b[0m'), ('\u001b[33myellow\u001b[0m', '\u001b[31mred\u001b[0m   ')),\n",
      " (('\u001b[34mblue\u001b[0m  ', '\u001b[33myellow\u001b[0m'), ('\u001b[32mgreen\u001b[0m ', '\u001b[37mwhite\u001b[0m '), ('\u001b[93morange\u001b[0m', '\u001b[34mblue\u001b[0m  '), ('\u001b[31mred\u001b[0m   ', '\u001b[32mgreen\u001b[0m '), ('\u001b[37mwhite\u001b[0m ', '\u001b[93morange\u001b[0m'), ('\u001b[33myellow\u001b[0m', '\u001b[31mred\u001b[0m   ')),\n",
      " (('\u001b[34mblue\u001b[0m  ', '\u001b[33myellow\u001b[0m'), ('\u001b[32mgreen\u001b[0m ', '\u001b[37mwhite\u001b[0m '), ('\u001b[93morange\u001b[0m', '\u001b[32mgreen\u001b[0m '), ('\u001b[31mred\u001b[0m   ', '\u001b[34mblue\u001b[0m  '), ('\u001b[37mwhite\u001b[0m ', '\u001b[31mred\u001b[0m   '), ('\u001b[33myellow\u001b[0m', '\u001b[93morange\u001b[0m')))\n"
     ]
    }
   ],
   "source": [
    "assert no_anti_checkers == to_frozen(to_sorted(no_anti_checkers))\n",
    "unescape_pprint(to_set(no_anti_checkers), colorstrs=long_colorstrs)\n",
    "unescape_pprint(to_sorted(no_anti_checkers), colorstrs=long_colorstrs)"
   ]
  },
  {
   "cell_type": "code",
   "execution_count": 33,
   "metadata": {},
   "outputs": [
    {
     "name": "stdout",
     "output_type": "stream",
     "text": [
      "{0, 3, 6}\n",
      "{3, 6}\n",
      "((('\u001b[34mb\u001b[0m',), ('\u001b[32mg\u001b[0m',), ('\u001b[93mo\u001b[0m',), ('\u001b[31mr\u001b[0m',), ('\u001b[37mw\u001b[0m',), ('\u001b[33my\u001b[0m',)),\n",
      " (('\u001b[34mb\u001b[0m', '\u001b[32mg\u001b[0m'), ('\u001b[93mo\u001b[0m', '\u001b[31mr\u001b[0m'), ('\u001b[37mw\u001b[0m', '\u001b[33my\u001b[0m')),\n",
      " (('\u001b[34mb\u001b[0m', '\u001b[93mo\u001b[0m'), ('\u001b[34mb\u001b[0m', '\u001b[37mw\u001b[0m'), ('\u001b[32mg\u001b[0m', '\u001b[31mr\u001b[0m'), ('\u001b[32mg\u001b[0m', '\u001b[33my\u001b[0m'), ('\u001b[93mo\u001b[0m', '\u001b[37mw\u001b[0m'), ('\u001b[31mr\u001b[0m', '\u001b[33my\u001b[0m')),\n",
      " (('\u001b[34mb\u001b[0m', '\u001b[93mo\u001b[0m'), ('\u001b[34mb\u001b[0m', '\u001b[37mw\u001b[0m'), ('\u001b[32mg\u001b[0m', '\u001b[31mr\u001b[0m'), ('\u001b[32mg\u001b[0m', '\u001b[33my\u001b[0m'), ('\u001b[93mo\u001b[0m', '\u001b[33my\u001b[0m'), ('\u001b[31mr\u001b[0m', '\u001b[37mw\u001b[0m')),\n",
      " (('\u001b[34mb\u001b[0m', '\u001b[93mo\u001b[0m'), ('\u001b[34mb\u001b[0m', '\u001b[33my\u001b[0m'), ('\u001b[32mg\u001b[0m', '\u001b[31mr\u001b[0m'), ('\u001b[32mg\u001b[0m', '\u001b[37mw\u001b[0m'), ('\u001b[93mo\u001b[0m', '\u001b[37mw\u001b[0m'), ('\u001b[31mr\u001b[0m', '\u001b[33my\u001b[0m')),\n",
      " (('\u001b[34mb\u001b[0m', '\u001b[93mo\u001b[0m'), ('\u001b[34mb\u001b[0m', '\u001b[33my\u001b[0m'), ('\u001b[32mg\u001b[0m', '\u001b[31mr\u001b[0m'), ('\u001b[32mg\u001b[0m', '\u001b[37mw\u001b[0m'), ('\u001b[93mo\u001b[0m', '\u001b[33my\u001b[0m'), ('\u001b[31mr\u001b[0m', '\u001b[37mw\u001b[0m')),\n",
      " (('\u001b[34mb\u001b[0m', '\u001b[31mr\u001b[0m'), ('\u001b[34mb\u001b[0m', '\u001b[37mw\u001b[0m'), ('\u001b[32mg\u001b[0m', '\u001b[93mo\u001b[0m'), ('\u001b[32mg\u001b[0m', '\u001b[33my\u001b[0m'), ('\u001b[93mo\u001b[0m', '\u001b[37mw\u001b[0m'), ('\u001b[31mr\u001b[0m', '\u001b[33my\u001b[0m')),\n",
      " (('\u001b[34mb\u001b[0m', '\u001b[31mr\u001b[0m'), ('\u001b[34mb\u001b[0m', '\u001b[37mw\u001b[0m'), ('\u001b[32mg\u001b[0m', '\u001b[93mo\u001b[0m'), ('\u001b[32mg\u001b[0m', '\u001b[33my\u001b[0m'), ('\u001b[93mo\u001b[0m', '\u001b[33my\u001b[0m'), ('\u001b[31mr\u001b[0m', '\u001b[37mw\u001b[0m')),\n",
      " (('\u001b[34mb\u001b[0m', '\u001b[31mr\u001b[0m'), ('\u001b[34mb\u001b[0m', '\u001b[33my\u001b[0m'), ('\u001b[32mg\u001b[0m', '\u001b[93mo\u001b[0m'), ('\u001b[32mg\u001b[0m', '\u001b[37mw\u001b[0m'), ('\u001b[93mo\u001b[0m', '\u001b[37mw\u001b[0m'), ('\u001b[31mr\u001b[0m', '\u001b[33my\u001b[0m')),\n",
      " (('\u001b[34mb\u001b[0m', '\u001b[31mr\u001b[0m'), ('\u001b[34mb\u001b[0m', '\u001b[33my\u001b[0m'), ('\u001b[32mg\u001b[0m', '\u001b[93mo\u001b[0m'), ('\u001b[32mg\u001b[0m', '\u001b[37mw\u001b[0m'), ('\u001b[93mo\u001b[0m', '\u001b[33my\u001b[0m'), ('\u001b[31mr\u001b[0m', '\u001b[37mw\u001b[0m')))\n",
      "[(' -761145211498135350', (('\u001b[34mblue\u001b[0m  ', '\u001b[31mred\u001b[0m   '), ('\u001b[32mgreen\u001b[0m ', '\u001b[93morange\u001b[0m'), ('\u001b[93morange\u001b[0m', '\u001b[33myellow\u001b[0m'), ('\u001b[31mred\u001b[0m   ', '\u001b[37mwhite\u001b[0m '), ('\u001b[37mwhite\u001b[0m ', '\u001b[34mblue\u001b[0m  '), ('\u001b[33myellow\u001b[0m', '\u001b[32mgreen\u001b[0m '))),\n",
      " (' -761145211498135350', (('\u001b[34mblue\u001b[0m  ', '\u001b[37mwhite\u001b[0m '), ('\u001b[32mgreen\u001b[0m ', '\u001b[33myellow\u001b[0m'), ('\u001b[93morange\u001b[0m', '\u001b[32mgreen\u001b[0m '), ('\u001b[31mred\u001b[0m   ', '\u001b[34mblue\u001b[0m  '), ('\u001b[37mwhite\u001b[0m ', '\u001b[31mred\u001b[0m   '), ('\u001b[33myellow\u001b[0m', '\u001b[93morange\u001b[0m'))),\n",
      " (' 3345172793789862574', (('\u001b[34mblue\u001b[0m  ', '\u001b[34mblue\u001b[0m  '), ('\u001b[32mgreen\u001b[0m ', '\u001b[32mgreen\u001b[0m '), ('\u001b[93morange\u001b[0m', '\u001b[93morange\u001b[0m'), ('\u001b[31mred\u001b[0m   ', '\u001b[31mred\u001b[0m   '), ('\u001b[37mwhite\u001b[0m ', '\u001b[37mwhite\u001b[0m '), ('\u001b[33myellow\u001b[0m', '\u001b[33myellow\u001b[0m'))),\n",
      " (' 5470997595426330089', (('\u001b[34mblue\u001b[0m  ', '\u001b[32mgreen\u001b[0m '), ('\u001b[32mgreen\u001b[0m ', '\u001b[34mblue\u001b[0m  '), ('\u001b[93morange\u001b[0m', '\u001b[31mred\u001b[0m   '), ('\u001b[31mred\u001b[0m   ', '\u001b[93morange\u001b[0m'), ('\u001b[37mwhite\u001b[0m ', '\u001b[33myellow\u001b[0m'), ('\u001b[33myellow\u001b[0m', '\u001b[37mwhite\u001b[0m '))),\n",
      " (' 7970399434457497173', (('\u001b[34mblue\u001b[0m  ', '\u001b[31mred\u001b[0m   '), ('\u001b[32mgreen\u001b[0m ', '\u001b[93morange\u001b[0m'), ('\u001b[93morange\u001b[0m', '\u001b[37mwhite\u001b[0m '), ('\u001b[31mred\u001b[0m   ', '\u001b[33myellow\u001b[0m'), ('\u001b[37mwhite\u001b[0m ', '\u001b[34mblue\u001b[0m  '), ('\u001b[33myellow\u001b[0m', '\u001b[32mgreen\u001b[0m '))),\n",
      " (' 7970399434457497173', (('\u001b[34mblue\u001b[0m  ', '\u001b[37mwhite\u001b[0m '), ('\u001b[32mgreen\u001b[0m ', '\u001b[33myellow\u001b[0m'), ('\u001b[93morange\u001b[0m', '\u001b[32mgreen\u001b[0m '), ('\u001b[31mred\u001b[0m   ', '\u001b[34mblue\u001b[0m  '), ('\u001b[37mwhite\u001b[0m ', '\u001b[93morange\u001b[0m'), ('\u001b[33myellow\u001b[0m', '\u001b[31mred\u001b[0m   '))),\n",
      " (' 8071812397454623495', (('\u001b[34mblue\u001b[0m  ', '\u001b[31mred\u001b[0m   '), ('\u001b[32mgreen\u001b[0m ', '\u001b[93morange\u001b[0m'), ('\u001b[93morange\u001b[0m', '\u001b[33myellow\u001b[0m'), ('\u001b[31mred\u001b[0m   ', '\u001b[37mwhite\u001b[0m '), ('\u001b[37mwhite\u001b[0m ', '\u001b[32mgreen\u001b[0m '), ('\u001b[33myellow\u001b[0m', '\u001b[34mblue\u001b[0m  '))),\n",
      " (' 8071812397454623495', (('\u001b[34mblue\u001b[0m  ', '\u001b[33myellow\u001b[0m'), ('\u001b[32mgreen\u001b[0m ', '\u001b[37mwhite\u001b[0m '), ('\u001b[93morange\u001b[0m', '\u001b[32mgreen\u001b[0m '), ('\u001b[31mred\u001b[0m   ', '\u001b[34mblue\u001b[0m  '), ('\u001b[37mwhite\u001b[0m ', '\u001b[31mred\u001b[0m   '), ('\u001b[33myellow\u001b[0m', '\u001b[93morange\u001b[0m'))),\n",
      " ('-1198163907350655472', (('\u001b[34mblue\u001b[0m  ', '\u001b[93morange\u001b[0m'), ('\u001b[32mgreen\u001b[0m ', '\u001b[31mred\u001b[0m   '), ('\u001b[93morange\u001b[0m', '\u001b[33myellow\u001b[0m'), ('\u001b[31mred\u001b[0m   ', '\u001b[37mwhite\u001b[0m '), ('\u001b[37mwhite\u001b[0m ', '\u001b[34mblue\u001b[0m  '), ('\u001b[33myellow\u001b[0m', '\u001b[32mgreen\u001b[0m '))),\n",
      " ('-1198163907350655472', (('\u001b[34mblue\u001b[0m  ', '\u001b[37mwhite\u001b[0m '), ('\u001b[32mgreen\u001b[0m ', '\u001b[33myellow\u001b[0m'), ('\u001b[93morange\u001b[0m', '\u001b[34mblue\u001b[0m  '), ('\u001b[31mred\u001b[0m   ', '\u001b[32mgreen\u001b[0m '), ('\u001b[37mwhite\u001b[0m ', '\u001b[31mred\u001b[0m   '), ('\u001b[33myellow\u001b[0m', '\u001b[93morange\u001b[0m'))),\n",
      " ('-3905790046010894245', (('\u001b[34mblue\u001b[0m  ', '\u001b[93morange\u001b[0m'), ('\u001b[32mgreen\u001b[0m ', '\u001b[31mred\u001b[0m   '), ('\u001b[93morange\u001b[0m', '\u001b[37mwhite\u001b[0m '), ('\u001b[31mred\u001b[0m   ', '\u001b[33myellow\u001b[0m'), ('\u001b[37mwhite\u001b[0m ', '\u001b[34mblue\u001b[0m  '), ('\u001b[33myellow\u001b[0m', '\u001b[32mgreen\u001b[0m '))),\n",
      " ('-3905790046010894245', (('\u001b[34mblue\u001b[0m  ', '\u001b[37mwhite\u001b[0m '), ('\u001b[32mgreen\u001b[0m ', '\u001b[33myellow\u001b[0m'), ('\u001b[93morange\u001b[0m', '\u001b[34mblue\u001b[0m  '), ('\u001b[31mred\u001b[0m   ', '\u001b[32mgreen\u001b[0m '), ('\u001b[37mwhite\u001b[0m ', '\u001b[93morange\u001b[0m'), ('\u001b[33myellow\u001b[0m', '\u001b[31mred\u001b[0m   '))),\n",
      " ('-6962523653629580223', (('\u001b[34mblue\u001b[0m  ', '\u001b[93morange\u001b[0m'), ('\u001b[32mgreen\u001b[0m ', '\u001b[31mred\u001b[0m   '), ('\u001b[93morange\u001b[0m', '\u001b[33myellow\u001b[0m'), ('\u001b[31mred\u001b[0m   ', '\u001b[37mwhite\u001b[0m '), ('\u001b[37mwhite\u001b[0m ', '\u001b[32mgreen\u001b[0m '), ('\u001b[33myellow\u001b[0m', '\u001b[34mblue\u001b[0m  '))),\n",
      " ('-6962523653629580223', (('\u001b[34mblue\u001b[0m  ', '\u001b[33myellow\u001b[0m'), ('\u001b[32mgreen\u001b[0m ', '\u001b[37mwhite\u001b[0m '), ('\u001b[93morange\u001b[0m', '\u001b[34mblue\u001b[0m  '), ('\u001b[31mred\u001b[0m   ', '\u001b[32mgreen\u001b[0m '), ('\u001b[37mwhite\u001b[0m ', '\u001b[31mred\u001b[0m   '), ('\u001b[33myellow\u001b[0m', '\u001b[93morange\u001b[0m'))),\n",
      " ('-8886341006719026356', (('\u001b[34mblue\u001b[0m  ', '\u001b[31mred\u001b[0m   '), ('\u001b[32mgreen\u001b[0m ', '\u001b[93morange\u001b[0m'), ('\u001b[93morange\u001b[0m', '\u001b[37mwhite\u001b[0m '), ('\u001b[31mred\u001b[0m   ', '\u001b[33myellow\u001b[0m'), ('\u001b[37mwhite\u001b[0m ', '\u001b[32mgreen\u001b[0m '), ('\u001b[33myellow\u001b[0m', '\u001b[34mblue\u001b[0m  '))),\n",
      " ('-8886341006719026356', (('\u001b[34mblue\u001b[0m  ', '\u001b[33myellow\u001b[0m'), ('\u001b[32mgreen\u001b[0m ', '\u001b[37mwhite\u001b[0m '), ('\u001b[93morange\u001b[0m', '\u001b[32mgreen\u001b[0m '), ('\u001b[31mred\u001b[0m   ', '\u001b[34mblue\u001b[0m  '), ('\u001b[37mwhite\u001b[0m ', '\u001b[93morange\u001b[0m'), ('\u001b[33myellow\u001b[0m', '\u001b[31mred\u001b[0m   '))),\n",
      " ('-9096037908203038778', (('\u001b[34mblue\u001b[0m  ', '\u001b[93morange\u001b[0m'), ('\u001b[32mgreen\u001b[0m ', '\u001b[31mred\u001b[0m   '), ('\u001b[93morange\u001b[0m', '\u001b[37mwhite\u001b[0m '), ('\u001b[31mred\u001b[0m   ', '\u001b[33myellow\u001b[0m'), ('\u001b[37mwhite\u001b[0m ', '\u001b[32mgreen\u001b[0m '), ('\u001b[33myellow\u001b[0m', '\u001b[34mblue\u001b[0m  '))),\n",
      " ('-9096037908203038778', (('\u001b[34mblue\u001b[0m  ', '\u001b[33myellow\u001b[0m'), ('\u001b[32mgreen\u001b[0m ', '\u001b[37mwhite\u001b[0m '), ('\u001b[93morange\u001b[0m', '\u001b[34mblue\u001b[0m  '), ('\u001b[31mred\u001b[0m   ', '\u001b[32mgreen\u001b[0m '), ('\u001b[37mwhite\u001b[0m ', '\u001b[93morange\u001b[0m'), ('\u001b[33myellow\u001b[0m', '\u001b[31mred\u001b[0m   ')))]\n"
     ]
    }
   ],
   "source": [
    "unescape_pprint(          to_set(map(lambda c: get_npairs(c, useequal=False), checkers)))\n",
    "unescape_pprint(          to_set(map(lambda c: get_npairs(c, useequal=True ), checkers)))\n",
    "unescape_pprint(to_sorted(to_set(map(lambda c: get_pairs( c, useequal=True ), checkers))))\n",
    "unescape_pprint(sorted(map(lambda cube: (f'{hash(get_pairs(cube)):20}', to_sorted(cube)), checkers)), colorstrs=long_colorstrs)"
   ]
  }
 ],
 "metadata": {
  "kernelspec": {
   "display_name": "Python 3",
   "language": "python",
   "name": "python3"
  },
  "language_info": {
   "codemirror_mode": {
    "name": "ipython",
    "version": 3
   },
   "file_extension": ".py",
   "mimetype": "text/x-python",
   "name": "python",
   "nbconvert_exporter": "python",
   "pygments_lexer": "ipython3",
   "version": "3.7.4"
  }
 },
 "nbformat": 4,
 "nbformat_minor": 4
}
